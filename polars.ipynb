{
 "cells": [
  {
   "cell_type": "markdown",
   "id": "133cb4a3",
   "metadata": {},
   "source": [
    "[![Open In Colab](https://colab.research.google.com/assets/colab-badge.svg)](https://colab.research.google.com/github/enigma-brain/polars_workshop_2025/blob/main/polars.ipynb)"
   ]
  },
  {
   "cell_type": "markdown",
   "id": "c013d964",
   "metadata": {},
   "source": [
    "# Polars Intro Workshop\n",
    "\n",
    "## Learning objectives\n",
    "- why is Enigma using Polars now? \n",
    "- understand advantages of Polars, basics of syntax, what's possible\n",
    "\n",
    "## Why Polars\n",
    "\n",
    "We're switching data stacks: MySQL + DataJoint -> Delta Lake tables + Polars. Several tools can analyze Delta Lake tables, but Polars offers a good balance of [performance](https://pola.rs/posts/benchmarks/) and simplicity.\n",
    "\n",
    "Orcapod uses Polars.\n",
    "\n",
    "Generally useful if you're working with 2D tables.\n",
    "\n",
    "Gaining [popularity](https://www.linkedin.com/posts/jeroenjanssens_polars-just-passed-30k-stars-on-github-congratulations-activity-7256626437082746880-fguS/).\n",
    "\n",
    "## Special features of Polars\n",
    "\n",
    "#### Performance and memory\n",
    "- Columnar architecture\n",
    "    - stores and processes data by column rather than by row\n",
    "- Parallelism by default \n",
    "- Lazy API\n",
    "    - queries aren't immediately executed; Polars optimizes the entire plan first\n",
    "- Streaming\n",
    "    - process datasets larger than available RAM by working in chunks\n",
    "\n",
    "## Core features for data manipulation\n",
    "\n",
    "Understanding these is most of the work. Extending to Lazy API and streaming is trivial.\n",
    "\n",
    "#### Data I/O\n",
    "- python objects: dict of lists, Pandas DataFrame\n",
    "- CSV, Excel, Parquet\n",
    "- Databases\n",
    "- Delta Lake tables\n",
    "- Cloud storage\n",
    "- others ([Docs](https://docs.pola.rs/user-guide/io/), [API reference](https://docs.pola.rs/api/python/dev/reference/io.html))\n",
    "\n",
    "#### Single table\n",
    "- `filter` and `select`: filter rows and select columns\n",
    "- `with_columns`: create new columns based on values in other columns\n",
    "- `group_by` and `agg`: group data and compute stats\n",
    "- `pivot` and `unpivot`: convert between long and wide format\n",
    "\n",
    "#### Multi table\n",
    "- `join` and `concat`: join and concatenation\n",
    "\n",
    "## Limitations\n",
    "- newer: smaller community, fewer tutorials\n",
    "- it's compared to Pandas, but the syntax is pretty different (although quite clear)\n"
   ]
  },
  {
   "cell_type": "code",
   "execution_count": 8,
   "id": "0d8b26f9",
   "metadata": {},
   "outputs": [],
   "source": [
    "# !pip install palmerpenguins\n",
    "import palmerpenguins as pp\n",
    "import polars as pl\n",
    "pl.Config.set_fmt_str_lengths(100) # nice for displaying longer strings and not truncate them\n",
    "\n",
    "df = pl.from_pandas(pp.load_penguins())\n"
   ]
  },
  {
   "cell_type": "markdown",
   "id": "f3cb4a8f",
   "metadata": {},
   "source": [
    "## Get basic understanding of data\n",
    "- `head`, `tail`\n",
    "- `schema`\n",
    "- `glimpse`\n",
    "- `sample`"
   ]
  },
  {
   "cell_type": "code",
   "execution_count": 3,
   "id": "239f5296",
   "metadata": {},
   "outputs": [],
   "source": [
    "# df\n",
    "# df.head()\n",
    "# df.tail()\n",
    "# df.glimpse() # good for wide DFs\n",
    "# df.schema\n",
    "# df.describe()\n",
    "# df.sample(3)"
   ]
  },
  {
   "cell_type": "markdown",
   "id": "23ddf56a",
   "metadata": {},
   "source": [
    "# Data manipulation/querying\n",
    "\n",
    "Assuming we have a dataframe called `df`, using Polars generally involves the format:\n",
    "```\n",
    "df.context(expression)\n",
    "```\n",
    "where the 'context' can be one of the following:\n",
    "\n",
    "- `select`\n",
    "- `with_columns`\n",
    "- `filter`\n",
    "- `group_by` and `agg`\n",
    "\n",
    "## `select` columns"
   ]
  },
  {
   "cell_type": "code",
   "execution_count": 4,
   "id": "a1f7f281",
   "metadata": {},
   "outputs": [
    {
     "data": {
      "text/html": [
       "<div><style>\n",
       ".dataframe > thead > tr,\n",
       ".dataframe > tbody > tr {\n",
       "  text-align: right;\n",
       "  white-space: pre-wrap;\n",
       "}\n",
       "</style>\n",
       "<small>shape: (5, 2)</small><table border=\"1\" class=\"dataframe\"><thead><tr><th>species</th><th>island</th></tr><tr><td>str</td><td>str</td></tr></thead><tbody><tr><td>&quot;Adelie&quot;</td><td>&quot;Biscoe&quot;</td></tr><tr><td>&quot;Adelie&quot;</td><td>&quot;Dream&quot;</td></tr><tr><td>&quot;Adelie&quot;</td><td>&quot;Torgersen&quot;</td></tr><tr><td>&quot;Chinstrap&quot;</td><td>&quot;Dream&quot;</td></tr><tr><td>&quot;Gentoo&quot;</td><td>&quot;Biscoe&quot;</td></tr></tbody></table></div>"
      ],
      "text/plain": [
       "shape: (5, 2)\n",
       "┌───────────┬───────────┐\n",
       "│ species   ┆ island    │\n",
       "│ ---       ┆ ---       │\n",
       "│ str       ┆ str       │\n",
       "╞═══════════╪═══════════╡\n",
       "│ Adelie    ┆ Biscoe    │\n",
       "│ Adelie    ┆ Dream     │\n",
       "│ Adelie    ┆ Torgersen │\n",
       "│ Chinstrap ┆ Dream     │\n",
       "│ Gentoo    ┆ Biscoe    │\n",
       "└───────────┴───────────┘"
      ]
     },
     "execution_count": 4,
     "metadata": {},
     "output_type": "execute_result"
    }
   ],
   "source": [
    "# grab a column\n",
    "df.select(\"body_mass_g\")\n",
    "\n",
    "# also grabs the same column, but you can do downstream operations this way\n",
    "df.select(pl.col(\"body_mass_g\"))\n",
    "\n",
    "# e.g. can sort and do arithmetic, \n",
    "df.select(pl.col(\"body_mass_g\").sort() / 1000)\n",
    "\n",
    "# but further operations require enclosing in parentheses, e.g. renaming the column\n",
    "df.select(\n",
    "    (pl.col(\"body_mass_g\")\n",
    "     .sort() \n",
    "     / 1000)\n",
    "     .alias(\"body_mass_kg\")\n",
    ") \n",
    "\n",
    "# using a 'named expression'\n",
    "df.select(\n",
    "    body_mass_kg = (pl.col(\"body_mass_g\")\n",
    "     .sort() \n",
    "     / 1000)\n",
    ") \n",
    "\n",
    "# alias method nice for storing expressions in variables  \n",
    "kg_expr = ((pl.col(\"body_mass_g\").sort() / 1000).alias(\"body_mass_kg\"))\n",
    "df.select(kg_expr)\n",
    "\n",
    "# select multiple columns\n",
    "df.select(\n",
    "    (pl.col(\"species\"), pl.col(\"island\")) # or [\"species\", \"island\"]\n",
    ").unique().sort(by=\"species\")\n"
   ]
  },
  {
   "cell_type": "markdown",
   "id": "ae47119e",
   "metadata": {},
   "source": [
    "There are tons of methods to use within expressions (like `.sort`) that can be used in expressions. See [here](https://docs.pola.rs/api/python/stable/reference/expressions/index.html) for a full list.\n",
    "\n",
    "Problem: using `select`, create a column that computes the z score (normalized deviations from the mean) for body mass, and name this column \"body_mass_zscore\""
   ]
  },
  {
   "cell_type": "code",
   "execution_count": 5,
   "id": "baa7d3db",
   "metadata": {},
   "outputs": [
    {
     "data": {
      "text/html": [
       "<div><style>\n",
       ".dataframe > thead > tr,\n",
       ".dataframe > tbody > tr {\n",
       "  text-align: right;\n",
       "  white-space: pre-wrap;\n",
       "}\n",
       "</style>\n",
       "<small>shape: (344, 1)</small><table border=\"1\" class=\"dataframe\"><thead><tr><th>body_mass_zscore</th></tr><tr><td>f64</td></tr></thead><tbody><tr><td>-0.563317</td></tr><tr><td>-0.500969</td></tr><tr><td>-1.186793</td></tr><tr><td>null</td></tr><tr><td>-0.937403</td></tr><tr><td>&hellip;</td></tr><tr><td>-0.251578</td></tr><tr><td>-0.99975</td></tr><tr><td>-0.532143</td></tr><tr><td>-0.126883</td></tr><tr><td>-0.532143</td></tr></tbody></table></div>"
      ],
      "text/plain": [
       "shape: (344, 1)\n",
       "┌──────────────────┐\n",
       "│ body_mass_zscore │\n",
       "│ ---              │\n",
       "│ f64              │\n",
       "╞══════════════════╡\n",
       "│ -0.563317        │\n",
       "│ -0.500969        │\n",
       "│ -1.186793        │\n",
       "│ null             │\n",
       "│ -0.937403        │\n",
       "│ …                │\n",
       "│ -0.251578        │\n",
       "│ -0.99975         │\n",
       "│ -0.532143        │\n",
       "│ -0.126883        │\n",
       "│ -0.532143        │\n",
       "└──────────────────┘"
      ]
     },
     "execution_count": 5,
     "metadata": {},
     "output_type": "execute_result"
    }
   ],
   "source": [
    "# expressions support broadcasting\n",
    "kg_expr = ((pl.col(\"body_mass_g\") - pl.col(\"body_mass_g\").mean()) / pl.col(\"body_mass_g\").std()).alias(\"body_mass_zscore\")\n",
    "df.select(kg_expr)"
   ]
  },
  {
   "cell_type": "markdown",
   "id": "d7f0eae8",
   "metadata": {},
   "source": [
    "## `with_columns` to add columns"
   ]
  },
  {
   "cell_type": "code",
   "execution_count": 10,
   "id": "5efb1eb5",
   "metadata": {},
   "outputs": [
    {
     "data": {
      "text/html": [
       "<div><style>\n",
       ".dataframe > thead > tr,\n",
       ".dataframe > tbody > tr {\n",
       "  text-align: right;\n",
       "  white-space: pre-wrap;\n",
       "}\n",
       "</style>\n",
       "<small>shape: (344, 10)</small><table border=\"1\" class=\"dataframe\"><thead><tr><th>species</th><th>island</th><th>bill_length_mm</th><th>bill_depth_mm</th><th>flipper_length_mm</th><th>body_mass_g</th><th>sex</th><th>year</th><th>body_mass_kg</th><th>swim_score</th></tr><tr><td>str</td><td>str</td><td>f64</td><td>f64</td><td>f64</td><td>f64</td><td>str</td><td>i64</td><td>f64</td><td>f64</td></tr></thead><tbody><tr><td>&quot;Adelie&quot;</td><td>&quot;Torgersen&quot;</td><td>39.1</td><td>18.7</td><td>181.0</td><td>3750.0</td><td>&quot;male&quot;</td><td>2007</td><td>3.75</td><td>48.266667</td></tr><tr><td>&quot;Adelie&quot;</td><td>&quot;Torgersen&quot;</td><td>39.5</td><td>17.4</td><td>186.0</td><td>3800.0</td><td>&quot;female&quot;</td><td>2007</td><td>3.8</td><td>48.947368</td></tr><tr><td>&quot;Adelie&quot;</td><td>&quot;Torgersen&quot;</td><td>40.3</td><td>18.0</td><td>195.0</td><td>3250.0</td><td>&quot;female&quot;</td><td>2007</td><td>3.25</td><td>60.0</td></tr><tr><td>&quot;Adelie&quot;</td><td>&quot;Torgersen&quot;</td><td>null</td><td>null</td><td>null</td><td>null</td><td>null</td><td>2007</td><td>null</td><td>null</td></tr><tr><td>&quot;Adelie&quot;</td><td>&quot;Torgersen&quot;</td><td>36.7</td><td>19.3</td><td>193.0</td><td>3450.0</td><td>&quot;female&quot;</td><td>2007</td><td>3.45</td><td>55.942029</td></tr><tr><td>&hellip;</td><td>&hellip;</td><td>&hellip;</td><td>&hellip;</td><td>&hellip;</td><td>&hellip;</td><td>&hellip;</td><td>&hellip;</td><td>&hellip;</td><td>&hellip;</td></tr><tr><td>&quot;Chinstrap&quot;</td><td>&quot;Dream&quot;</td><td>55.8</td><td>19.8</td><td>207.0</td><td>4000.0</td><td>&quot;male&quot;</td><td>2009</td><td>4.0</td><td>51.75</td></tr><tr><td>&quot;Chinstrap&quot;</td><td>&quot;Dream&quot;</td><td>43.5</td><td>18.1</td><td>202.0</td><td>3400.0</td><td>&quot;female&quot;</td><td>2009</td><td>3.4</td><td>59.411765</td></tr><tr><td>&quot;Chinstrap&quot;</td><td>&quot;Dream&quot;</td><td>49.6</td><td>18.2</td><td>193.0</td><td>3775.0</td><td>&quot;male&quot;</td><td>2009</td><td>3.775</td><td>51.125828</td></tr><tr><td>&quot;Chinstrap&quot;</td><td>&quot;Dream&quot;</td><td>50.8</td><td>19.0</td><td>210.0</td><td>4100.0</td><td>&quot;male&quot;</td><td>2009</td><td>4.1</td><td>51.219512</td></tr><tr><td>&quot;Chinstrap&quot;</td><td>&quot;Dream&quot;</td><td>50.2</td><td>18.7</td><td>198.0</td><td>3775.0</td><td>&quot;female&quot;</td><td>2009</td><td>3.775</td><td>52.450331</td></tr></tbody></table></div>"
      ],
      "text/plain": [
       "shape: (344, 10)\n",
       "┌───────────┬───────────┬─────────────┬─────────────┬───┬────────┬──────┬─────────────┬────────────┐\n",
       "│ species   ┆ island    ┆ bill_length ┆ bill_depth_ ┆ … ┆ sex    ┆ year ┆ body_mass_k ┆ swim_score │\n",
       "│ ---       ┆ ---       ┆ _mm         ┆ mm          ┆   ┆ ---    ┆ ---  ┆ g           ┆ ---        │\n",
       "│ str       ┆ str       ┆ ---         ┆ ---         ┆   ┆ str    ┆ i64  ┆ ---         ┆ f64        │\n",
       "│           ┆           ┆ f64         ┆ f64         ┆   ┆        ┆      ┆ f64         ┆            │\n",
       "╞═══════════╪═══════════╪═════════════╪═════════════╪═══╪════════╪══════╪═════════════╪════════════╡\n",
       "│ Adelie    ┆ Torgersen ┆ 39.1        ┆ 18.7        ┆ … ┆ male   ┆ 2007 ┆ 3.75        ┆ 48.266667  │\n",
       "│ Adelie    ┆ Torgersen ┆ 39.5        ┆ 17.4        ┆ … ┆ female ┆ 2007 ┆ 3.8         ┆ 48.947368  │\n",
       "│ Adelie    ┆ Torgersen ┆ 40.3        ┆ 18.0        ┆ … ┆ female ┆ 2007 ┆ 3.25        ┆ 60.0       │\n",
       "│ Adelie    ┆ Torgersen ┆ null        ┆ null        ┆ … ┆ null   ┆ 2007 ┆ null        ┆ null       │\n",
       "│ Adelie    ┆ Torgersen ┆ 36.7        ┆ 19.3        ┆ … ┆ female ┆ 2007 ┆ 3.45        ┆ 55.942029  │\n",
       "│ …         ┆ …         ┆ …           ┆ …           ┆ … ┆ …      ┆ …    ┆ …           ┆ …          │\n",
       "│ Chinstrap ┆ Dream     ┆ 55.8        ┆ 19.8        ┆ … ┆ male   ┆ 2009 ┆ 4.0         ┆ 51.75      │\n",
       "│ Chinstrap ┆ Dream     ┆ 43.5        ┆ 18.1        ┆ … ┆ female ┆ 2009 ┆ 3.4         ┆ 59.411765  │\n",
       "│ Chinstrap ┆ Dream     ┆ 49.6        ┆ 18.2        ┆ … ┆ male   ┆ 2009 ┆ 3.775       ┆ 51.125828  │\n",
       "│ Chinstrap ┆ Dream     ┆ 50.8        ┆ 19.0        ┆ … ┆ male   ┆ 2009 ┆ 4.1         ┆ 51.219512  │\n",
       "│ Chinstrap ┆ Dream     ┆ 50.2        ┆ 18.7        ┆ … ┆ female ┆ 2009 ┆ 3.775       ┆ 52.450331  │\n",
       "└───────────┴───────────┴─────────────┴─────────────┴───┴────────┴──────┴─────────────┴────────────┘"
      ]
     },
     "execution_count": 10,
     "metadata": {},
     "output_type": "execute_result"
    }
   ],
   "source": [
    "kg_expr = (pl.col(\"body_mass_g\") / 1000).alias(\"body_mass_kg\")\n",
    "swim_score_expr = (pl.col(\"flipper_length_mm\") / pl.col(\"body_mass_kg\")).alias(\"swim_score\")\n",
    "\n",
    "# Polars executes expressions in the same context in parallel, so the first option won't work\n",
    "# df.with_columns(\n",
    "#     kg_expr,\n",
    "#     swim_score_expr\n",
    "# )\n",
    "\n",
    "# Columns must be creted in serial, by using `with_columns` context twice\n",
    "df = df.with_columns(\n",
    "    kg_expr,\n",
    ").with_columns(\n",
    "    swim_score_expr,\n",
    ")\n",
    "df"
   ]
  },
  {
   "cell_type": "markdown",
   "id": "e02295d4",
   "metadata": {},
   "source": [
    "## `filter` rows"
   ]
  },
  {
   "cell_type": "code",
   "execution_count": 11,
   "id": "019cfbf0",
   "metadata": {},
   "outputs": [
    {
     "data": {
      "text/html": [
       "<div><style>\n",
       ".dataframe > thead > tr,\n",
       ".dataframe > tbody > tr {\n",
       "  text-align: right;\n",
       "  white-space: pre-wrap;\n",
       "}\n",
       "</style>\n",
       "<small>shape: (44, 10)</small><table border=\"1\" class=\"dataframe\"><thead><tr><th>species</th><th>island</th><th>bill_length_mm</th><th>bill_depth_mm</th><th>flipper_length_mm</th><th>body_mass_g</th><th>sex</th><th>year</th><th>body_mass_kg</th><th>swim_score</th></tr><tr><td>str</td><td>str</td><td>f64</td><td>f64</td><td>f64</td><td>f64</td><td>str</td><td>i64</td><td>f64</td><td>f64</td></tr></thead><tbody><tr><td>&quot;Adelie&quot;</td><td>&quot;Biscoe&quot;</td><td>37.8</td><td>18.3</td><td>174.0</td><td>3400.0</td><td>&quot;female&quot;</td><td>2007</td><td>3.4</td><td>51.176471</td></tr><tr><td>&quot;Adelie&quot;</td><td>&quot;Biscoe&quot;</td><td>37.7</td><td>18.7</td><td>180.0</td><td>3600.0</td><td>&quot;male&quot;</td><td>2007</td><td>3.6</td><td>50.0</td></tr><tr><td>&quot;Adelie&quot;</td><td>&quot;Biscoe&quot;</td><td>35.9</td><td>19.2</td><td>189.0</td><td>3800.0</td><td>&quot;female&quot;</td><td>2007</td><td>3.8</td><td>49.736842</td></tr><tr><td>&quot;Adelie&quot;</td><td>&quot;Biscoe&quot;</td><td>38.2</td><td>18.1</td><td>185.0</td><td>3950.0</td><td>&quot;male&quot;</td><td>2007</td><td>3.95</td><td>46.835443</td></tr><tr><td>&quot;Adelie&quot;</td><td>&quot;Biscoe&quot;</td><td>38.8</td><td>17.2</td><td>180.0</td><td>3800.0</td><td>&quot;male&quot;</td><td>2007</td><td>3.8</td><td>47.368421</td></tr><tr><td>&hellip;</td><td>&hellip;</td><td>&hellip;</td><td>&hellip;</td><td>&hellip;</td><td>&hellip;</td><td>&hellip;</td><td>&hellip;</td><td>&hellip;</td><td>&hellip;</td></tr><tr><td>&quot;Adelie&quot;</td><td>&quot;Biscoe&quot;</td><td>45.6</td><td>20.3</td><td>191.0</td><td>4600.0</td><td>&quot;male&quot;</td><td>2009</td><td>4.6</td><td>41.521739</td></tr><tr><td>&quot;Adelie&quot;</td><td>&quot;Biscoe&quot;</td><td>39.7</td><td>17.7</td><td>193.0</td><td>3200.0</td><td>&quot;female&quot;</td><td>2009</td><td>3.2</td><td>60.3125</td></tr><tr><td>&quot;Adelie&quot;</td><td>&quot;Biscoe&quot;</td><td>42.2</td><td>19.5</td><td>197.0</td><td>4275.0</td><td>&quot;male&quot;</td><td>2009</td><td>4.275</td><td>46.081871</td></tr><tr><td>&quot;Adelie&quot;</td><td>&quot;Biscoe&quot;</td><td>39.6</td><td>20.7</td><td>191.0</td><td>3900.0</td><td>&quot;female&quot;</td><td>2009</td><td>3.9</td><td>48.974359</td></tr><tr><td>&quot;Adelie&quot;</td><td>&quot;Biscoe&quot;</td><td>42.7</td><td>18.3</td><td>196.0</td><td>4075.0</td><td>&quot;male&quot;</td><td>2009</td><td>4.075</td><td>48.09816</td></tr></tbody></table></div>"
      ],
      "text/plain": [
       "shape: (44, 10)\n",
       "┌─────────┬────────┬───────────────┬───────────────┬───┬────────┬──────┬──────────────┬────────────┐\n",
       "│ species ┆ island ┆ bill_length_m ┆ bill_depth_mm ┆ … ┆ sex    ┆ year ┆ body_mass_kg ┆ swim_score │\n",
       "│ ---     ┆ ---    ┆ m             ┆ ---           ┆   ┆ ---    ┆ ---  ┆ ---          ┆ ---        │\n",
       "│ str     ┆ str    ┆ ---           ┆ f64           ┆   ┆ str    ┆ i64  ┆ f64          ┆ f64        │\n",
       "│         ┆        ┆ f64           ┆               ┆   ┆        ┆      ┆              ┆            │\n",
       "╞═════════╪════════╪═══════════════╪═══════════════╪═══╪════════╪══════╪══════════════╪════════════╡\n",
       "│ Adelie  ┆ Biscoe ┆ 37.8          ┆ 18.3          ┆ … ┆ female ┆ 2007 ┆ 3.4          ┆ 51.176471  │\n",
       "│ Adelie  ┆ Biscoe ┆ 37.7          ┆ 18.7          ┆ … ┆ male   ┆ 2007 ┆ 3.6          ┆ 50.0       │\n",
       "│ Adelie  ┆ Biscoe ┆ 35.9          ┆ 19.2          ┆ … ┆ female ┆ 2007 ┆ 3.8          ┆ 49.736842  │\n",
       "│ Adelie  ┆ Biscoe ┆ 38.2          ┆ 18.1          ┆ … ┆ male   ┆ 2007 ┆ 3.95         ┆ 46.835443  │\n",
       "│ Adelie  ┆ Biscoe ┆ 38.8          ┆ 17.2          ┆ … ┆ male   ┆ 2007 ┆ 3.8          ┆ 47.368421  │\n",
       "│ …       ┆ …      ┆ …             ┆ …             ┆ … ┆ …      ┆ …    ┆ …            ┆ …          │\n",
       "│ Adelie  ┆ Biscoe ┆ 45.6          ┆ 20.3          ┆ … ┆ male   ┆ 2009 ┆ 4.6          ┆ 41.521739  │\n",
       "│ Adelie  ┆ Biscoe ┆ 39.7          ┆ 17.7          ┆ … ┆ female ┆ 2009 ┆ 3.2          ┆ 60.3125    │\n",
       "│ Adelie  ┆ Biscoe ┆ 42.2          ┆ 19.5          ┆ … ┆ male   ┆ 2009 ┆ 4.275        ┆ 46.081871  │\n",
       "│ Adelie  ┆ Biscoe ┆ 39.6          ┆ 20.7          ┆ … ┆ female ┆ 2009 ┆ 3.9          ┆ 48.974359  │\n",
       "│ Adelie  ┆ Biscoe ┆ 42.7          ┆ 18.3          ┆ … ┆ male   ┆ 2009 ┆ 4.075        ┆ 48.09816   │\n",
       "└─────────┴────────┴───────────────┴───────────────┴───┴────────┴──────┴──────────────┴────────────┘"
      ]
     },
     "execution_count": 11,
     "metadata": {},
     "output_type": "execute_result"
    }
   ],
   "source": [
    "df.filter(pl.col(\"species\") == \"Gentoo\")\n",
    "\n",
    "# filter based on multiple conditions\n",
    "(\n",
    "    df.filter(\n",
    "    (pl.col(\"species\") == \"Adelie\") & (pl.col(\"island\") == \"Biscoe\") \n",
    "    )\n",
    ")\n",
    "\n",
    "## can use commas instead of ampersands, but not 'and'!\n",
    "(\n",
    "    df.filter(\n",
    "    (pl.col(\"species\") == \"Adelie\"), \n",
    "    (pl.col(\"island\") == \"Biscoe\"),\n",
    "    )\n",
    ")\n",
    "\n",
    "# in addition to storing expressions as variables to keep things organized, you can also define functions to create expressions\n",
    "def filter_species_island_expr(species, island):\n",
    "    return (\n",
    "        pl.col(\"species\") == species,\n",
    "        pl.col(\"island\") == island\n",
    "    )\n",
    "\n",
    "df.filter(\n",
    "    filter_species_island_expr(\"Adelie\", \"Biscoe\")\n",
    "    )"
   ]
  },
  {
   "cell_type": "markdown",
   "id": "2fa73aa4",
   "metadata": {},
   "source": [
    "Contexts can be chained together using:\n",
    "```\n",
    "df.context1(expression1).context2(expression2)\n",
    "```\n",
    "\n",
    "Problem 1: Find the Chinstrap penguin with the largest swim_score. Return just the swim_score\n",
    "\n",
    "Problem 2: Find the sex of the Chinstrap penguin with the largest swim score. Return just the sex. "
   ]
  },
  {
   "cell_type": "code",
   "execution_count": null,
   "id": "55393564",
   "metadata": {},
   "outputs": [
    {
     "data": {
      "text/html": [
       "<div><style>\n",
       ".dataframe > thead > tr,\n",
       ".dataframe > tbody > tr {\n",
       "  text-align: right;\n",
       "  white-space: pre-wrap;\n",
       "}\n",
       "</style>\n",
       "<small>shape: (1, 1)</small><table border=\"1\" class=\"dataframe\"><thead><tr><th>max_swim_score</th></tr><tr><td>f64</td></tr></thead><tbody><tr><td>71.111111</td></tr></tbody></table></div>"
      ],
      "text/plain": [
       "shape: (1, 1)\n",
       "┌────────────────┐\n",
       "│ max_swim_score │\n",
       "│ ---            │\n",
       "│ f64            │\n",
       "╞════════════════╡\n",
       "│ 71.111111      │\n",
       "└────────────────┘"
      ]
     },
     "execution_count": 9,
     "metadata": {},
     "output_type": "execute_result"
    }
   ],
   "source": [
    "df.filter(pl.col(\"species\") == \"Chinstrap\").select(pl.col(\"swim_score\").max().alias(\"max_swim_score\"))"
   ]
  },
  {
   "cell_type": "code",
   "execution_count": null,
   "id": "01311346",
   "metadata": {},
   "outputs": [
    {
     "data": {
      "text/html": [
       "<div><style>\n",
       ".dataframe > thead > tr,\n",
       ".dataframe > tbody > tr {\n",
       "  text-align: right;\n",
       "  white-space: pre-wrap;\n",
       "}\n",
       "</style>\n",
       "<small>shape: (1, 1)</small><table border=\"1\" class=\"dataframe\"><thead><tr><th>sex</th></tr><tr><td>str</td></tr></thead><tbody><tr><td>&quot;female&quot;</td></tr></tbody></table></div>"
      ],
      "text/plain": [
       "shape: (1, 1)\n",
       "┌────────┐\n",
       "│ sex    │\n",
       "│ ---    │\n",
       "│ str    │\n",
       "╞════════╡\n",
       "│ female │\n",
       "└────────┘"
      ]
     },
     "execution_count": 10,
     "metadata": {},
     "output_type": "execute_result"
    }
   ],
   "source": [
    "(\n",
    "df.select(pl.col([\"species\", \"sex\", \"swim_score\"]))\n",
    ".filter(pl.col(\"species\") == \"Chinstrap\")\n",
    ".sort(by=\"swim_score\", descending=True)\n",
    ".head(1)\n",
    ".select(pl.col(\"sex\"))\n",
    ")"
   ]
  },
  {
   "cell_type": "markdown",
   "id": "ec4ffc2c",
   "metadata": {},
   "source": [
    "## `groupby` and `agg` to group rows by their values, compute statistics"
   ]
  },
  {
   "cell_type": "code",
   "execution_count": null,
   "id": "b29e884a",
   "metadata": {},
   "outputs": [
    {
     "data": {
      "text/html": [
       "<div><style>\n",
       ".dataframe > thead > tr,\n",
       ".dataframe > tbody > tr {\n",
       "  text-align: right;\n",
       "  white-space: pre-wrap;\n",
       "}\n",
       "</style>\n",
       "<small>shape: (6, 5)</small><table border=\"1\" class=\"dataframe\"><thead><tr><th>species</th><th>sex</th><th>body_mass_kgmean_</th><th>swim_scoremean_</th><th>count</th></tr><tr><td>str</td><td>str</td><td>f64</td><td>f64</td><td>u32</td></tr></thead><tbody><tr><td>&quot;Adelie&quot;</td><td>&quot;female&quot;</td><td>3.368836</td><td>56.067969</td><td>73</td></tr><tr><td>&quot;Adelie&quot;</td><td>&quot;male&quot;</td><td>4.043493</td><td>47.880679</td><td>73</td></tr><tr><td>&quot;Chinstrap&quot;</td><td>&quot;female&quot;</td><td>3.527206</td><td>54.700678</td><td>34</td></tr><tr><td>&quot;Chinstrap&quot;</td><td>&quot;male&quot;</td><td>3.938971</td><td>51.076667</td><td>34</td></tr><tr><td>&quot;Gentoo&quot;</td><td>&quot;female&quot;</td><td>4.679741</td><td>45.594384</td><td>58</td></tr><tr><td>&quot;Gentoo&quot;</td><td>&quot;male&quot;</td><td>5.484836</td><td>40.502094</td><td>61</td></tr></tbody></table></div>"
      ],
      "text/plain": [
       "shape: (6, 5)\n",
       "┌───────────┬────────┬───────────────────┬─────────────────┬───────┐\n",
       "│ species   ┆ sex    ┆ body_mass_kgmean_ ┆ swim_scoremean_ ┆ count │\n",
       "│ ---       ┆ ---    ┆ ---               ┆ ---             ┆ ---   │\n",
       "│ str       ┆ str    ┆ f64               ┆ f64             ┆ u32   │\n",
       "╞═══════════╪════════╪═══════════════════╪═════════════════╪═══════╡\n",
       "│ Adelie    ┆ female ┆ 3.368836          ┆ 56.067969       ┆ 73    │\n",
       "│ Adelie    ┆ male   ┆ 4.043493          ┆ 47.880679       ┆ 73    │\n",
       "│ Chinstrap ┆ female ┆ 3.527206          ┆ 54.700678       ┆ 34    │\n",
       "│ Chinstrap ┆ male   ┆ 3.938971          ┆ 51.076667       ┆ 34    │\n",
       "│ Gentoo    ┆ female ┆ 4.679741          ┆ 45.594384       ┆ 58    │\n",
       "│ Gentoo    ┆ male   ┆ 5.484836          ┆ 40.502094       ┆ 61    │\n",
       "└───────────┴────────┴───────────────────┴─────────────────┴───────┘"
      ]
     },
     "execution_count": 14,
     "metadata": {},
     "output_type": "execute_result"
    }
   ],
   "source": [
    "df.group_by(\"species\").agg(\n",
    "    pl.col(\"body_mass_kg\").mean(),\n",
    "    pl.col(\"swim_score\").mean(),\n",
    ").sort(by=\"species\")\n",
    "\n",
    "# group by multiple columns, rename the columns\n",
    "df.group_by([\"species\", \"sex\"]).agg(\n",
    "    pl.col(\"body_mass_kg\").mean().alias(\"mean_body_mass_g\"),\n",
    "    pl.col(\"swim_score\").mean().alias(\"mean_swim_score\"),\n",
    ").sort(by=\"species\")\n",
    "\n",
    "# drop nulls\n",
    "(\n",
    "    df\n",
    "    .drop_nulls(subset = [\"sex\"])\n",
    "    .group_by([\"species\", \"sex\"])\n",
    "    .agg(\n",
    "        pl.col(\"body_mass_kg\").mean().alias(\"mean_body_mass_kg\"),\n",
    "        pl.col(\"swim_score\").mean().alias(\"mean_swim_score\"),\n",
    "        pl.len().alias(\"count\") # count the number of rows in each group\n",
    "    )\n",
    "    .sort(by=\"species\")\n",
    ")\n",
    "\n",
    "# 'expression expansions' help remove redundant code\n",
    "(\n",
    "    df\n",
    "    .drop_nulls(subset = [\"sex\"])\n",
    "    .group_by([\"species\", \"sex\"])\n",
    "    .agg(\n",
    "        pl.col(\"body_mass_kg\", \"swim_score\").mean().name.prefix(\"mean_\"), # can also use .name.suffix(\"_mean\")\n",
    "        pl.len().alias(\"count\")\n",
    "    )\n",
    "    .sort(by=\"species\")\n",
    ")"
   ]
  },
  {
   "cell_type": "markdown",
   "id": "a82d2301",
   "metadata": {},
   "source": [
    "Problem: use the .quantile method to compute the 0.25, 0.5, and 0.75 quantile per species. Name these columns \"q1_swim_score\", \"q2_swim_score\", etc.\n",
    "Bonus if you can avoid having .quantile in your code"
   ]
  },
  {
   "cell_type": "code",
   "execution_count": null,
   "id": "86fd4e41",
   "metadata": {},
   "outputs": [
    {
     "data": {
      "text/html": [
       "<div><style>\n",
       ".dataframe > thead > tr,\n",
       ".dataframe > tbody > tr {\n",
       "  text-align: right;\n",
       "  white-space: pre-wrap;\n",
       "}\n",
       "</style>\n",
       "<small>shape: (3, 4)</small><table border=\"1\" class=\"dataframe\"><thead><tr><th>species</th><th>q1_swim_score</th><th>q2_swim_score</th><th>q3_swim_score</th></tr><tr><td>str</td><td>f64</td><td>f64</td><td>f64</td></tr></thead><tbody><tr><td>&quot;Gentoo&quot;</td><td>40.566038</td><td>43.2</td><td>45.473684</td></tr><tr><td>&quot;Chinstrap&quot;</td><td>50.25641</td><td>52.631579</td><td>55.072464</td></tr><tr><td>&quot;Adelie&quot;</td><td>47.848101</td><td>51.543624</td><td>56.521739</td></tr></tbody></table></div>"
      ],
      "text/plain": [
       "shape: (3, 4)\n",
       "┌───────────┬───────────────┬───────────────┬───────────────┐\n",
       "│ species   ┆ q1_swim_score ┆ q2_swim_score ┆ q3_swim_score │\n",
       "│ ---       ┆ ---           ┆ ---           ┆ ---           │\n",
       "│ str       ┆ f64           ┆ f64           ┆ f64           │\n",
       "╞═══════════╪═══════════════╪═══════════════╪═══════════════╡\n",
       "│ Gentoo    ┆ 40.566038     ┆ 43.2          ┆ 45.473684     │\n",
       "│ Chinstrap ┆ 50.25641      ┆ 52.631579     ┆ 55.072464     │\n",
       "│ Adelie    ┆ 47.848101     ┆ 51.543624     ┆ 56.521739     │\n",
       "└───────────┴───────────────┴───────────────┴───────────────┘"
      ]
     },
     "execution_count": 16,
     "metadata": {},
     "output_type": "execute_result"
    }
   ],
   "source": [
    "df.group_by([\"species\"]).agg(\n",
    "        pl.col(\"swim_score\").quantile(0.25).alias(\"q1_swim_score\"),\n",
    "        pl.col(\"swim_score\").quantile(0.5).alias(\"q2_swim_score\"),\n",
    "        pl.col(\"swim_score\").quantile(0.75).alias(\"q3_swim_score\"),\n",
    "    )\n",
    "\n",
    "# more clever but less explicit\n",
    "df.group_by(\"species\").agg([\n",
    "    pl.col(\"swim_score\").quantile(q).alias(f\"q{i}_swim_score\") \n",
    "    for i, q in enumerate([0.25, 0.5, 0.75], 1)\n",
    "])"
   ]
  },
  {
   "cell_type": "markdown",
   "id": "345d52f2",
   "metadata": {},
   "source": [
    "# Pivots: wide format <-> long format\n",
    "\n",
    "\"Wide\" tables have a column for each variable. \"Long\" tables have fewer columns, with a single column for variable type and another for the corresponding value.\n",
    "\n",
    "- `.pivot()` : long -> wide\n",
    "- `.unpivot()` : wide -> long\n",
    "\n",
    "\n",
    "\n",
    "Our dataframe is already in wide format. Let's convert it to long format."
   ]
  },
  {
   "cell_type": "code",
   "execution_count": null,
   "id": "7cb91ab2",
   "metadata": {},
   "outputs": [
    {
     "data": {
      "text/html": [
       "<div><style>\n",
       ".dataframe > thead > tr,\n",
       ".dataframe > tbody > tr {\n",
       "  text-align: right;\n",
       "  white-space: pre-wrap;\n",
       "}\n",
       "</style>\n",
       "<small>shape: (5, 4)</small><table border=\"1\" class=\"dataframe\"><thead><tr><th>species</th><th>island</th><th>variable</th><th>value</th></tr><tr><td>str</td><td>str</td><td>str</td><td>f64</td></tr></thead><tbody><tr><td>&quot;Chinstrap&quot;</td><td>&quot;Dream&quot;</td><td>&quot;bill_depth_mm&quot;</td><td>19.0</td></tr><tr><td>&quot;Gentoo&quot;</td><td>&quot;Biscoe&quot;</td><td>&quot;bill_depth_mm&quot;</td><td>16.3</td></tr><tr><td>&quot;Chinstrap&quot;</td><td>&quot;Dream&quot;</td><td>&quot;bill_depth_mm&quot;</td><td>19.0</td></tr><tr><td>&quot;Adelie&quot;</td><td>&quot;Biscoe&quot;</td><td>&quot;bill_length_mm&quot;</td><td>41.1</td></tr><tr><td>&quot;Adelie&quot;</td><td>&quot;Torgersen&quot;</td><td>&quot;bill_length_mm&quot;</td><td>35.9</td></tr></tbody></table></div>"
      ],
      "text/plain": [
       "shape: (5, 4)\n",
       "┌───────────┬───────────┬────────────────┬───────┐\n",
       "│ species   ┆ island    ┆ variable       ┆ value │\n",
       "│ ---       ┆ ---       ┆ ---            ┆ ---   │\n",
       "│ str       ┆ str       ┆ str            ┆ f64   │\n",
       "╞═══════════╪═══════════╪════════════════╪═══════╡\n",
       "│ Chinstrap ┆ Dream     ┆ bill_depth_mm  ┆ 19.0  │\n",
       "│ Gentoo    ┆ Biscoe    ┆ bill_depth_mm  ┆ 16.3  │\n",
       "│ Chinstrap ┆ Dream     ┆ bill_depth_mm  ┆ 19.0  │\n",
       "│ Adelie    ┆ Biscoe    ┆ bill_length_mm ┆ 41.1  │\n",
       "│ Adelie    ┆ Torgersen ┆ bill_length_mm ┆ 35.9  │\n",
       "└───────────┴───────────┴────────────────┴───────┘"
      ]
     },
     "execution_count": 44,
     "metadata": {},
     "output_type": "execute_result"
    }
   ],
   "source": [
    "# go from wide to long format\n",
    "df_long = (\n",
    "            df.select(\"species\", \"island\", \"bill_length_mm\", \"bill_depth_mm\")\n",
    "            .unpivot(on=[\"bill_length_mm\", \"bill_depth_mm\"], # columns to collapse into \"variable\" column\n",
    "                    index=[\"species\", \"island\"]) # used as identifier variables\n",
    ")\n",
    "\n",
    "df_long.sample(5)"
   ]
  },
  {
   "cell_type": "markdown",
   "id": "e408bbcf",
   "metadata": {},
   "source": [
    "Once in long format, plotting libraries like seaborn make it easy to visualize statistics with respect to these variables!"
   ]
  },
  {
   "cell_type": "code",
   "execution_count": null,
   "id": "9a1092bb",
   "metadata": {},
   "outputs": [
    {
     "data": {
      "image/png": "[encoded data removed]",
      "text/plain": [
       "<Figure size 1200x600 with 1 Axes>"
      ]
     },
     "metadata": {},
     "output_type": "display_data"
    },
    {
     "data": {
      "text/plain": [
       "<Figure size 640x480 with 0 Axes>"
      ]
     },
     "metadata": {},
     "output_type": "display_data"
    }
   ],
   "source": [
    "import seaborn as sns\n",
    "import matplotlib.pyplot as plt\n",
    "sns.set(style=\"darkgrid\")\n",
    "plt.figure(figsize=(12, 6))\n",
    "sns.violinplot(data=df_long, x=\"species\", y=\"value\", hue=\"variable\")\n",
    "plt.title(\"Distribution of Bill Measurements by Species\")\n",
    "plt.xlabel(\"Species\")\n",
    "plt.ylabel(\"Measurement Value\")\n",
    "plt.legend(title=\"Measurement Type\")\n",
    "plt.show()\n",
    "sns.despine()"
   ]
  },
  {
   "cell_type": "markdown",
   "id": "dd392870",
   "metadata": {},
   "source": [
    "Going from wide to long format involves creating one-to-many relationships: the column name is now represented many times in the variable column.\n",
    "\n",
    "Alternatively, going from long to wide format involves creating many-to-one relationships. As a result, you need to also specify an 'aggregate_function' to tell Polars what to do with duplicates."
   ]
  },
  {
   "cell_type": "code",
   "execution_count": null,
   "id": "0807c7ae",
   "metadata": {},
   "outputs": [
    {
     "data": {
      "text/html": [
       "<div><style>\n",
       ".dataframe > thead > tr,\n",
       ".dataframe > tbody > tr {\n",
       "  text-align: right;\n",
       "  white-space: pre-wrap;\n",
       "}\n",
       "</style>\n",
       "<small>shape: (3, 4)</small><table border=\"1\" class=\"dataframe\"><thead><tr><th>sex</th><th>Adelie</th><th>Gentoo</th><th>Chinstrap</th></tr><tr><td>str</td><td>f64</td><td>f64</td><td>f64</td></tr></thead><tbody><tr><td>&quot;male&quot;</td><td>4.775</td><td>6.3</td><td>4.8</td></tr><tr><td>&quot;female&quot;</td><td>3.9</td><td>5.2</td><td>4.15</td></tr><tr><td>null</td><td>4.25</td><td>4.875</td><td>null</td></tr></tbody></table></div>"
      ],
      "text/plain": [
       "shape: (3, 4)\n",
       "┌────────┬────────┬────────┬───────────┐\n",
       "│ sex    ┆ Adelie ┆ Gentoo ┆ Chinstrap │\n",
       "│ ---    ┆ ---    ┆ ---    ┆ ---       │\n",
       "│ str    ┆ f64    ┆ f64    ┆ f64       │\n",
       "╞════════╪════════╪════════╪═══════════╡\n",
       "│ male   ┆ 4.775  ┆ 6.3    ┆ 4.8       │\n",
       "│ female ┆ 3.9    ┆ 5.2    ┆ 4.15      │\n",
       "│ null   ┆ 4.25   ┆ 4.875  ┆ null      │\n",
       "└────────┴────────┴────────┴───────────┘"
      ]
     },
     "execution_count": 46,
     "metadata": {},
     "output_type": "execute_result"
    }
   ],
   "source": [
    "df.pivot(on=\"species\", # will become the column values\n",
    "         index=\"sex\", # will become the row values\n",
    "         values=\"body_mass_kg\", # will become the values in the pivot table \n",
    "         aggregate_function=\"max\")"
   ]
  },
  {
   "cell_type": "markdown",
   "id": "bd97aa06",
   "metadata": {},
   "source": [
    "Problem: confirm with command we learned above that the max body_mass_kg for a male Adelie is that value"
   ]
  },
  {
   "cell_type": "code",
   "execution_count": 43,
   "id": "3c90af66",
   "metadata": {},
   "outputs": [
    {
     "data": {
      "text/html": [
       "<div><style>\n",
       ".dataframe > thead > tr,\n",
       ".dataframe > tbody > tr {\n",
       "  text-align: right;\n",
       "  white-space: pre-wrap;\n",
       "}\n",
       "</style>\n",
       "<small>shape: (1, 1)</small><table border=\"1\" class=\"dataframe\"><thead><tr><th>body_mass_kg</th></tr><tr><td>f64</td></tr></thead><tbody><tr><td>4.775</td></tr></tbody></table></div>"
      ],
      "text/plain": [
       "shape: (1, 1)\n",
       "┌──────────────┐\n",
       "│ body_mass_kg │\n",
       "│ ---          │\n",
       "│ f64          │\n",
       "╞══════════════╡\n",
       "│ 4.775        │\n",
       "└──────────────┘"
      ]
     },
     "execution_count": 43,
     "metadata": {},
     "output_type": "execute_result"
    }
   ],
   "source": [
    "# exercise, confirm this for Gentoo\n",
    "df.filter(\n",
    "    (pl.col(\"species\") == \"Adelie\")\n",
    "    ).select(pl.col(\"body_mass_kg\")\n",
    "    .max()\n",
    "    )\n",
    "# or\n",
    "df.select(\n",
    "    pl.col(\"body_mass_kg\")\n",
    "    .filter(pl.col(\"species\") == \"Adelie\")\n",
    "    .max()\n",
    "\n",
    "    \n",
    ")"
   ]
  },
  {
   "cell_type": "code",
   "execution_count": 47,
   "id": "02678255",
   "metadata": {},
   "outputs": [
    {
     "data": {
      "text/html": [
       "<div><style>\n",
       ".dataframe > thead > tr,\n",
       ".dataframe > tbody > tr {\n",
       "  text-align: right;\n",
       "  white-space: pre-wrap;\n",
       "}\n",
       "</style>\n",
       "<small>shape: (5, 4)</small><table border=\"1\" class=\"dataframe\"><thead><tr><th>species</th><th>island</th><th>bill_length_mm</th><th>bill_depth_mm</th></tr><tr><td>str</td><td>str</td><td>f64</td><td>f64</td></tr></thead><tbody><tr><td>&quot;Adelie&quot;</td><td>&quot;Torgersen&quot;</td><td>39.1</td><td>18.7</td></tr><tr><td>&quot;Adelie&quot;</td><td>&quot;Biscoe&quot;</td><td>37.8</td><td>18.3</td></tr><tr><td>&quot;Adelie&quot;</td><td>&quot;Dream&quot;</td><td>39.5</td><td>16.7</td></tr><tr><td>&quot;Gentoo&quot;</td><td>&quot;Biscoe&quot;</td><td>46.1</td><td>13.2</td></tr><tr><td>&quot;Chinstrap&quot;</td><td>&quot;Dream&quot;</td><td>46.5</td><td>17.9</td></tr></tbody></table></div>"
      ],
      "text/plain": [
       "shape: (5, 4)\n",
       "┌───────────┬───────────┬────────────────┬───────────────┐\n",
       "│ species   ┆ island    ┆ bill_length_mm ┆ bill_depth_mm │\n",
       "│ ---       ┆ ---       ┆ ---            ┆ ---           │\n",
       "│ str       ┆ str       ┆ f64            ┆ f64           │\n",
       "╞═══════════╪═══════════╪════════════════╪═══════════════╡\n",
       "│ Adelie    ┆ Torgersen ┆ 39.1           ┆ 18.7          │\n",
       "│ Adelie    ┆ Biscoe    ┆ 37.8           ┆ 18.3          │\n",
       "│ Adelie    ┆ Dream     ┆ 39.5           ┆ 16.7          │\n",
       "│ Gentoo    ┆ Biscoe    ┆ 46.1           ┆ 13.2          │\n",
       "│ Chinstrap ┆ Dream     ┆ 46.5           ┆ 17.9          │\n",
       "└───────────┴───────────┴────────────────┴───────────────┘"
      ]
     },
     "execution_count": 47,
     "metadata": {},
     "output_type": "execute_result"
    }
   ],
   "source": [
    "# convert back to wide format, but this fails becaue you don't know which bill length+depth go together for each individual\n",
    "df_long.pivot(on=\"variable\",\n",
    "            index=[\"species\", \"island\"],\n",
    "            values=\"value\",\n",
    "            aggregate_function=\"first\") # looking at the options available, this seems most appropriate?"
   ]
  },
  {
   "cell_type": "code",
   "execution_count": 51,
   "id": "2816c605",
   "metadata": {},
   "outputs": [
    {
     "data": {
      "text/html": [
       "<div><style>\n",
       ".dataframe > thead > tr,\n",
       ".dataframe > tbody > tr {\n",
       "  text-align: right;\n",
       "  white-space: pre-wrap;\n",
       "}\n",
       "</style>\n",
       "<small>shape: (688, 5)</small><table border=\"1\" class=\"dataframe\"><thead><tr><th>species</th><th>island</th><th>penguin_id</th><th>variable</th><th>value</th></tr><tr><td>str</td><td>str</td><td>u32</td><td>str</td><td>f64</td></tr></thead><tbody><tr><td>&quot;Adelie&quot;</td><td>&quot;Torgersen&quot;</td><td>0</td><td>&quot;bill_length_mm&quot;</td><td>39.1</td></tr><tr><td>&quot;Adelie&quot;</td><td>&quot;Torgersen&quot;</td><td>1</td><td>&quot;bill_length_mm&quot;</td><td>39.5</td></tr><tr><td>&quot;Adelie&quot;</td><td>&quot;Torgersen&quot;</td><td>2</td><td>&quot;bill_length_mm&quot;</td><td>40.3</td></tr><tr><td>&quot;Adelie&quot;</td><td>&quot;Torgersen&quot;</td><td>3</td><td>&quot;bill_length_mm&quot;</td><td>null</td></tr><tr><td>&quot;Adelie&quot;</td><td>&quot;Torgersen&quot;</td><td>4</td><td>&quot;bill_length_mm&quot;</td><td>36.7</td></tr><tr><td>&hellip;</td><td>&hellip;</td><td>&hellip;</td><td>&hellip;</td><td>&hellip;</td></tr><tr><td>&quot;Chinstrap&quot;</td><td>&quot;Dream&quot;</td><td>339</td><td>&quot;bill_depth_mm&quot;</td><td>19.8</td></tr><tr><td>&quot;Chinstrap&quot;</td><td>&quot;Dream&quot;</td><td>340</td><td>&quot;bill_depth_mm&quot;</td><td>18.1</td></tr><tr><td>&quot;Chinstrap&quot;</td><td>&quot;Dream&quot;</td><td>341</td><td>&quot;bill_depth_mm&quot;</td><td>18.2</td></tr><tr><td>&quot;Chinstrap&quot;</td><td>&quot;Dream&quot;</td><td>342</td><td>&quot;bill_depth_mm&quot;</td><td>19.0</td></tr><tr><td>&quot;Chinstrap&quot;</td><td>&quot;Dream&quot;</td><td>343</td><td>&quot;bill_depth_mm&quot;</td><td>18.7</td></tr></tbody></table></div>"
      ],
      "text/plain": [
       "shape: (688, 5)\n",
       "┌───────────┬───────────┬────────────┬────────────────┬───────┐\n",
       "│ species   ┆ island    ┆ penguin_id ┆ variable       ┆ value │\n",
       "│ ---       ┆ ---       ┆ ---        ┆ ---            ┆ ---   │\n",
       "│ str       ┆ str       ┆ u32        ┆ str            ┆ f64   │\n",
       "╞═══════════╪═══════════╪════════════╪════════════════╪═══════╡\n",
       "│ Adelie    ┆ Torgersen ┆ 0          ┆ bill_length_mm ┆ 39.1  │\n",
       "│ Adelie    ┆ Torgersen ┆ 1          ┆ bill_length_mm ┆ 39.5  │\n",
       "│ Adelie    ┆ Torgersen ┆ 2          ┆ bill_length_mm ┆ 40.3  │\n",
       "│ Adelie    ┆ Torgersen ┆ 3          ┆ bill_length_mm ┆ null  │\n",
       "│ Adelie    ┆ Torgersen ┆ 4          ┆ bill_length_mm ┆ 36.7  │\n",
       "│ …         ┆ …         ┆ …          ┆ …              ┆ …     │\n",
       "│ Chinstrap ┆ Dream     ┆ 339        ┆ bill_depth_mm  ┆ 19.8  │\n",
       "│ Chinstrap ┆ Dream     ┆ 340        ┆ bill_depth_mm  ┆ 18.1  │\n",
       "│ Chinstrap ┆ Dream     ┆ 341        ┆ bill_depth_mm  ┆ 18.2  │\n",
       "│ Chinstrap ┆ Dream     ┆ 342        ┆ bill_depth_mm  ┆ 19.0  │\n",
       "│ Chinstrap ┆ Dream     ┆ 343        ┆ bill_depth_mm  ┆ 18.7  │\n",
       "└───────────┴───────────┴────────────┴────────────────┴───────┘"
      ]
     },
     "execution_count": 51,
     "metadata": {},
     "output_type": "execute_result"
    }
   ],
   "source": [
    "# Redo, preserving penguin ID\n",
    "# go from wide to long format\n",
    "df_long2 = (df\n",
    "            .select(\"species\", \"island\", \"bill_length_mm\", \"bill_depth_mm\")\n",
    "            .with_row_index(\"penguin_id\")\n",
    "            .unpivot([\"bill_length_mm\", \"bill_depth_mm\"],\n",
    "                index=[\"species\", \"island\", \"penguin_id\"])\n",
    ")\n",
    "df_long2"
   ]
  },
  {
   "cell_type": "code",
   "execution_count": 52,
   "id": "2ae6e1f7",
   "metadata": {},
   "outputs": [
    {
     "data": {
      "text/html": [
       "<div><style>\n",
       ".dataframe > thead > tr,\n",
       ".dataframe > tbody > tr {\n",
       "  text-align: right;\n",
       "  white-space: pre-wrap;\n",
       "}\n",
       "</style>\n",
       "<small>shape: (344, 5)</small><table border=\"1\" class=\"dataframe\"><thead><tr><th>species</th><th>island</th><th>penguin_id</th><th>bill_length_mm</th><th>bill_depth_mm</th></tr><tr><td>str</td><td>str</td><td>u32</td><td>f64</td><td>f64</td></tr></thead><tbody><tr><td>&quot;Adelie&quot;</td><td>&quot;Torgersen&quot;</td><td>0</td><td>39.1</td><td>18.7</td></tr><tr><td>&quot;Adelie&quot;</td><td>&quot;Torgersen&quot;</td><td>1</td><td>39.5</td><td>17.4</td></tr><tr><td>&quot;Adelie&quot;</td><td>&quot;Torgersen&quot;</td><td>2</td><td>40.3</td><td>18.0</td></tr><tr><td>&quot;Adelie&quot;</td><td>&quot;Torgersen&quot;</td><td>3</td><td>null</td><td>null</td></tr><tr><td>&quot;Adelie&quot;</td><td>&quot;Torgersen&quot;</td><td>4</td><td>36.7</td><td>19.3</td></tr><tr><td>&hellip;</td><td>&hellip;</td><td>&hellip;</td><td>&hellip;</td><td>&hellip;</td></tr><tr><td>&quot;Chinstrap&quot;</td><td>&quot;Dream&quot;</td><td>339</td><td>55.8</td><td>19.8</td></tr><tr><td>&quot;Chinstrap&quot;</td><td>&quot;Dream&quot;</td><td>340</td><td>43.5</td><td>18.1</td></tr><tr><td>&quot;Chinstrap&quot;</td><td>&quot;Dream&quot;</td><td>341</td><td>49.6</td><td>18.2</td></tr><tr><td>&quot;Chinstrap&quot;</td><td>&quot;Dream&quot;</td><td>342</td><td>50.8</td><td>19.0</td></tr><tr><td>&quot;Chinstrap&quot;</td><td>&quot;Dream&quot;</td><td>343</td><td>50.2</td><td>18.7</td></tr></tbody></table></div>"
      ],
      "text/plain": [
       "shape: (344, 5)\n",
       "┌───────────┬───────────┬────────────┬────────────────┬───────────────┐\n",
       "│ species   ┆ island    ┆ penguin_id ┆ bill_length_mm ┆ bill_depth_mm │\n",
       "│ ---       ┆ ---       ┆ ---        ┆ ---            ┆ ---           │\n",
       "│ str       ┆ str       ┆ u32        ┆ f64            ┆ f64           │\n",
       "╞═══════════╪═══════════╪════════════╪════════════════╪═══════════════╡\n",
       "│ Adelie    ┆ Torgersen ┆ 0          ┆ 39.1           ┆ 18.7          │\n",
       "│ Adelie    ┆ Torgersen ┆ 1          ┆ 39.5           ┆ 17.4          │\n",
       "│ Adelie    ┆ Torgersen ┆ 2          ┆ 40.3           ┆ 18.0          │\n",
       "│ Adelie    ┆ Torgersen ┆ 3          ┆ null           ┆ null          │\n",
       "│ Adelie    ┆ Torgersen ┆ 4          ┆ 36.7           ┆ 19.3          │\n",
       "│ …         ┆ …         ┆ …          ┆ …              ┆ …             │\n",
       "│ Chinstrap ┆ Dream     ┆ 339        ┆ 55.8           ┆ 19.8          │\n",
       "│ Chinstrap ┆ Dream     ┆ 340        ┆ 43.5           ┆ 18.1          │\n",
       "│ Chinstrap ┆ Dream     ┆ 341        ┆ 49.6           ┆ 18.2          │\n",
       "│ Chinstrap ┆ Dream     ┆ 342        ┆ 50.8           ┆ 19.0          │\n",
       "│ Chinstrap ┆ Dream     ┆ 343        ┆ 50.2           ┆ 18.7          │\n",
       "└───────────┴───────────┴────────────┴────────────────┴───────────────┘"
      ]
     },
     "execution_count": 52,
     "metadata": {},
     "output_type": "execute_result"
    }
   ],
   "source": [
    "# Now we can successfully go back to wide format\n",
    "df_long2.pivot(on=\"variable\",\n",
    "            index=[\"species\", \"island\", \"penguin_id\"],\n",
    "            values=\"value\",\n",
    "            aggregate_function=\"first\")"
   ]
  },
  {
   "cell_type": "markdown",
   "id": "fdba1f6d",
   "metadata": {},
   "source": [
    "# Lazy frames\n",
    "For exploratory data analyses, use DataFrames. For performance, use LazyFrames.\n",
    "\n",
    "Syntax same as before, but results not immediately available. Need to use `.collect()`.\n",
    "\n",
    "To load in a LazyFrame, either convert an existing DataFrame or use one of the `.scan_*()` methods"
   ]
  },
  {
   "cell_type": "code",
   "execution_count": null,
   "id": "79cfca91",
   "metadata": {},
   "outputs": [
    {
     "data": {
      "text/html": [
       "<h4>NAIVE QUERY PLAN</h4><p>run <b>LazyFrame.show_graph()</b> to see the optimized version</p><?xml version=\"1.0\" encoding=\"UTF-8\" standalone=\"no\"?>\n",
       "<!DOCTYPE svg PUBLIC \"-//W3C//DTD SVG 1.1//EN\"\n",
       " \"http://www.w3.org/Graphics/SVG/1.1/DTD/svg11.dtd\">\n",
       "<!-- Generated by graphviz version 2.43.0 (0)\n",
       " -->\n",
       "<!-- Title: polars_query Pages: 1 -->\n",
       "<svg width=\"181pt\" height=\"118pt\"\n",
       " viewBox=\"0.00 0.00 181.00 118.00\" xmlns=\"http://www.w3.org/2000/svg\" xmlns:xlink=\"http://www.w3.org/1999/xlink\">\n",
       "<g id=\"graph0\" class=\"graph\" transform=\"scale(1 1) rotate(0) translate(4 114)\">\n",
       "<title>polars_query</title>\n",
       "<polygon fill=\"white\" stroke=\"transparent\" points=\"-4,4 -4,-114 177,-114 177,4 -4,4\"/>\n",
       "<!-- p1 -->\n",
       "<g id=\"node1\" class=\"node\">\n",
       "<title>p1</title>\n",
       "<polygon fill=\"none\" stroke=\"black\" points=\"173,-110 0,-110 0,-74 173,-74 173,-110\"/>\n",
       "<text text-anchor=\"middle\" x=\"86.5\" y=\"-88.3\" font-family=\"Times,serif\" font-size=\"14.00\">SLICE offset: 0; len: 5</text>\n",
       "</g>\n",
       "<!-- p2 -->\n",
       "<g id=\"node2\" class=\"node\">\n",
       "<title>p2</title>\n",
       "<polygon fill=\"none\" stroke=\"black\" points=\"119,-38 54,-38 54,0 119,0 119,-38\"/>\n",
       "<text text-anchor=\"middle\" x=\"86.5\" y=\"-22.8\" font-family=\"Times,serif\" font-size=\"14.00\">TABLE</text>\n",
       "<text text-anchor=\"middle\" x=\"86.5\" y=\"-7.8\" font-family=\"Times,serif\" font-size=\"14.00\">π */10</text>\n",
       "</g>\n",
       "<!-- p1&#45;&#45;p2 -->\n",
       "<g id=\"edge1\" class=\"edge\">\n",
       "<title>p1&#45;&#45;p2</title>\n",
       "<path fill=\"none\" stroke=\"black\" d=\"M86.5,-73.81C86.5,-62.98 86.5,-49.01 86.5,-38.02\"/>\n",
       "</g>\n",
       "</g>\n",
       "</svg>\n"
      ],
      "text/plain": [
       "<LazyFrame at 0x7F1496159710>"
      ]
     },
     "execution_count": 19,
     "metadata": {},
     "output_type": "execute_result"
    }
   ],
   "source": [
    "df_lazy = pl.LazyFrame(df)\n",
    "# df_lazy = df.lazy()\n",
    "df_lazy\n",
    "# note: methods like df_lazy.head() now behave differenlty"
   ]
  },
  {
   "cell_type": "code",
   "execution_count": null,
   "id": "e18f69b6",
   "metadata": {},
   "outputs": [
    {
     "data": {
      "text/html": [
       "<h4>NAIVE QUERY PLAN</h4><p>run <b>LazyFrame.show_graph()</b> to see the optimized version</p><?xml version=\"1.0\" encoding=\"UTF-8\" standalone=\"no\"?>\n",
       "<!DOCTYPE svg PUBLIC \"-//W3C//DTD SVG 1.1//EN\"\n",
       " \"http://www.w3.org/Graphics/SVG/1.1/DTD/svg11.dtd\">\n",
       "<!-- Generated by graphviz version 2.43.0 (0)\n",
       " -->\n",
       "<!-- Title: polars_query Pages: 1 -->\n",
       "<svg width=\"559pt\" height=\"334pt\"\n",
       " viewBox=\"0.00 0.00 559.00 334.00\" xmlns=\"http://www.w3.org/2000/svg\" xmlns:xlink=\"http://www.w3.org/1999/xlink\">\n",
       "<g id=\"graph0\" class=\"graph\" transform=\"scale(1 1) rotate(0) translate(4 330)\">\n",
       "<title>polars_query</title>\n",
       "<polygon fill=\"white\" stroke=\"transparent\" points=\"-4,4 -4,-330 555,-330 555,4 -4,4\"/>\n",
       "<!-- p1 -->\n",
       "<g id=\"node1\" class=\"node\">\n",
       "<title>p1</title>\n",
       "<polygon fill=\"none\" stroke=\"black\" points=\"302.5,-326 248.5,-326 248.5,-290 302.5,-290 302.5,-326\"/>\n",
       "<text text-anchor=\"middle\" x=\"275.5\" y=\"-304.3\" font-family=\"Times,serif\" font-size=\"14.00\">π 1/1</text>\n",
       "</g>\n",
       "<!-- p2 -->\n",
       "<g id=\"node2\" class=\"node\">\n",
       "<title>p2</title>\n",
       "<polygon fill=\"none\" stroke=\"black\" points=\"414.5,-254 136.5,-254 136.5,-218 414.5,-218 414.5,-254\"/>\n",
       "<text text-anchor=\"middle\" x=\"275.5\" y=\"-232.3\" font-family=\"Times,serif\" font-size=\"14.00\">FILTER BY [(col(&quot;sex&quot;)) == (&quot;male&quot;)]</text>\n",
       "</g>\n",
       "<!-- p1&#45;&#45;p2 -->\n",
       "<g id=\"edge1\" class=\"edge\">\n",
       "<title>p1&#45;&#45;p2</title>\n",
       "<path fill=\"none\" stroke=\"black\" d=\"M275.5,-289.7C275.5,-278.85 275.5,-264.92 275.5,-254.1\"/>\n",
       "</g>\n",
       "<!-- p3 -->\n",
       "<g id=\"node3\" class=\"node\">\n",
       "<title>p3</title>\n",
       "<polygon fill=\"none\" stroke=\"black\" points=\"437,-182 114,-182 114,-146 437,-146 437,-182\"/>\n",
       "<text text-anchor=\"middle\" x=\"275.5\" y=\"-160.3\" font-family=\"Times,serif\" font-size=\"14.00\">FILTER BY [(col(&quot;species&quot;)) == (&quot;Gentoo&quot;)]</text>\n",
       "</g>\n",
       "<!-- p2&#45;&#45;p3 -->\n",
       "<g id=\"edge2\" class=\"edge\">\n",
       "<title>p2&#45;&#45;p3</title>\n",
       "<path fill=\"none\" stroke=\"black\" d=\"M275.5,-217.7C275.5,-206.85 275.5,-192.92 275.5,-182.1\"/>\n",
       "</g>\n",
       "<!-- p4 -->\n",
       "<g id=\"node4\" class=\"node\">\n",
       "<title>p4</title>\n",
       "<polygon fill=\"none\" stroke=\"black\" points=\"551,-110 0,-110 0,-74 551,-74 551,-110\"/>\n",
       "<text text-anchor=\"middle\" x=\"275.5\" y=\"-88.3\" font-family=\"Times,serif\" font-size=\"14.00\">WITH COLUMNS [[(col(&quot;body_mass_g&quot;)) / (1000.0)].alias(&quot;body_mass_kg&quot;)]</text>\n",
       "</g>\n",
       "<!-- p3&#45;&#45;p4 -->\n",
       "<g id=\"edge3\" class=\"edge\">\n",
       "<title>p3&#45;&#45;p4</title>\n",
       "<path fill=\"none\" stroke=\"black\" d=\"M275.5,-145.7C275.5,-134.85 275.5,-120.92 275.5,-110.1\"/>\n",
       "</g>\n",
       "<!-- p5 -->\n",
       "<g id=\"node5\" class=\"node\">\n",
       "<title>p5</title>\n",
       "<polygon fill=\"none\" stroke=\"black\" points=\"308,-38 243,-38 243,0 308,0 308,-38\"/>\n",
       "<text text-anchor=\"middle\" x=\"275.5\" y=\"-22.8\" font-family=\"Times,serif\" font-size=\"14.00\">TABLE</text>\n",
       "<text text-anchor=\"middle\" x=\"275.5\" y=\"-7.8\" font-family=\"Times,serif\" font-size=\"14.00\">π */10</text>\n",
       "</g>\n",
       "<!-- p4&#45;&#45;p5 -->\n",
       "<g id=\"edge4\" class=\"edge\">\n",
       "<title>p4&#45;&#45;p5</title>\n",
       "<path fill=\"none\" stroke=\"black\" d=\"M275.5,-73.81C275.5,-62.98 275.5,-49.01 275.5,-38.02\"/>\n",
       "</g>\n",
       "</g>\n",
       "</svg>\n"
      ],
      "text/plain": [
       "<LazyFrame at 0x7F14960D21D0>"
      ]
     },
     "execution_count": 20,
     "metadata": {},
     "output_type": "execute_result"
    }
   ],
   "source": [
    "kg_expr = (pl.col(\"body_mass_g\") / 1000).alias(\"body_mass_kg\")\n",
    "gentoo_male_expr = (pl.col(\"species\") == \"Gentoo\") , (pl.col(\"sex\") == \"male\")\n",
    "\n",
    "# make lazy query that gets the body mass in kg for Gentoo males\n",
    "lazy_query = (\n",
    "    df_lazy.with_columns(kg_expr)\n",
    "    .filter(gentoo_male_expr)\n",
    "    .select(\"body_mass_kg\")\n",
    ")\n",
    "\n",
    "# returns another lazy frame\n",
    "lazy_query"
   ]
  },
  {
   "cell_type": "markdown",
   "id": "488701ea",
   "metadata": {},
   "source": [
    "This lazy query, which hasn't been optimized, is read from the bottom up. \n",
    "\n",
    "$\\pi$ stands for PROJECTION and refers to columns. We start with all 10 columns and end up with 1. \n",
    "\n",
    "Contexts are listed in the same order as written in our query.\n",
    "\n",
    "Let's compare this to the optimized query plan below."
   ]
  },
  {
   "cell_type": "code",
   "execution_count": null,
   "id": "a5a0a4c4",
   "metadata": {},
   "outputs": [
    {
     "data": {
      "image/svg+xml": [
       "<svg xmlns=\"http://www.w3.org/2000/svg\" xmlns:xlink=\"http://www.w3.org/1999/xlink\" width=\"565pt\" height=\"264pt\" viewBox=\"0.00 0.00 565.00 264.00\">\n",
       "<g id=\"graph0\" class=\"graph\" transform=\"scale(1 1) rotate(0) translate(4 260)\">\n",
       "<title>polars_query</title>\n",
       "<polygon fill=\"white\" stroke=\"transparent\" points=\"-4,4 -4,-260 561,-260 561,4 -4,4\"/>\n",
       "<!-- p1 -->\n",
       "<g id=\"node1\" class=\"node\">\n",
       "<title>p1</title>\n",
       "<polygon fill=\"none\" stroke=\"black\" points=\"350,-256 207,-256 207,-218 350,-218 350,-256\"/>\n",
       "<text text-anchor=\"middle\" x=\"278.5\" y=\"-240.8\" font-family=\"Times,serif\" font-size=\"14.00\">simple π 1/4</text>\n",
       "<text text-anchor=\"middle\" x=\"278.5\" y=\"-225.8\" font-family=\"Times,serif\" font-size=\"14.00\">[&quot;body_mass_kg&quot;]</text>\n",
       "</g>\n",
       "<!-- p2 -->\n",
       "<g id=\"node2\" class=\"node\">\n",
       "<title>p2</title>\n",
       "<polygon fill=\"none\" stroke=\"black\" points=\"554,-182 3,-182 3,-146 554,-146 554,-182\"/>\n",
       "<text text-anchor=\"middle\" x=\"278.5\" y=\"-160.3\" font-family=\"Times,serif\" font-size=\"14.00\">WITH COLUMNS [[(col(&quot;body_mass_g&quot;)) / (1000.0)].alias(&quot;body_mass_kg&quot;)]</text>\n",
       "</g>\n",
       "<!-- p1&#45;&#45;p2 -->\n",
       "<g id=\"edge1\" class=\"edge\">\n",
       "<title>p1--p2</title>\n",
       "<path fill=\"none\" stroke=\"black\" d=\"M278.5,-217.72C278.5,-206.7 278.5,-192.78 278.5,-182\"/>\n",
       "</g>\n",
       "<!-- p3 -->\n",
       "<g id=\"node3\" class=\"node\">\n",
       "<title>p3</title>\n",
       "<polygon fill=\"none\" stroke=\"black\" points=\"557,-110 0,-110 0,-74 557,-74 557,-110\"/>\n",
       "<text text-anchor=\"middle\" x=\"278.5\" y=\"-88.3\" font-family=\"Times,serif\" font-size=\"14.00\">FILTER BY [([(col(&quot;species&quot;)) == (&quot;Gentoo&quot;)]) &amp; ([(col(&quot;sex&quot;)) == (&quot;male&quot;)])]</text>\n",
       "</g>\n",
       "<!-- p2&#45;&#45;p3 -->\n",
       "<g id=\"edge2\" class=\"edge\">\n",
       "<title>p2--p3</title>\n",
       "<path fill=\"none\" stroke=\"black\" d=\"M278.5,-145.7C278.5,-134.85 278.5,-120.92 278.5,-110.1\"/>\n",
       "</g>\n",
       "<!-- p4 -->\n",
       "<g id=\"node4\" class=\"node\">\n",
       "<title>p4</title>\n",
       "<polygon fill=\"none\" stroke=\"black\" points=\"311,-38 246,-38 246,0 311,0 311,-38\"/>\n",
       "<text text-anchor=\"middle\" x=\"278.5\" y=\"-22.8\" font-family=\"Times,serif\" font-size=\"14.00\">TABLE</text>\n",
       "<text text-anchor=\"middle\" x=\"278.5\" y=\"-7.8\" font-family=\"Times,serif\" font-size=\"14.00\">π 4/10</text>\n",
       "</g>\n",
       "<!-- p3&#45;&#45;p4 -->\n",
       "<g id=\"edge3\" class=\"edge\">\n",
       "<title>p3--p4</title>\n",
       "<path fill=\"none\" stroke=\"black\" d=\"M278.5,-73.81C278.5,-62.98 278.5,-49.01 278.5,-38.02\"/>\n",
       "</g>\n",
       "</g>\n",
       "</svg>"
      ],
      "text/plain": [
       "<IPython.core.display.SVG object>"
      ]
     },
     "metadata": {},
     "output_type": "display_data"
    }
   ],
   "source": [
    "lazy_query.show_graph()"
   ]
  },
  {
   "cell_type": "markdown",
   "id": "7669bc5f",
   "metadata": {},
   "source": [
    "Polars uses predicate and projection pushdown, database optimization techniques, to make the selection of columns (projection) and the filtering of rows (predicate) as early as possible so that it only loads the data you need.\n",
    "\n",
    "You can also use `.explain()` to get a string representation of the query plan (useful if text gets truncated within graph nodes)."
   ]
  },
  {
   "cell_type": "code",
   "execution_count": null,
   "id": "e7b73e81",
   "metadata": {},
   "outputs": [
    {
     "data": {
      "text/plain": [
       "'simple π 1/1 [\"body_mass_kg\"]\\n   WITH_COLUMNS:\\n   [[(col(\"body_mass_g\")) / (1000.0)].alias(\"body_mass_kg\")] \\n    FILTER [([(col(\"sex\")) == (\"male\")]) & ([(col(\"species\")) == (\"Gentoo\")])]\\n    FROM\\n      DF [\"species\", \"island\", \"bill_length_mm\", \"bill_depth_mm\", ...]; PROJECT[\"body_mass_kg\", \"sex\", \"species\", \"body_mass_g\"] 4/10 COLUMNS'"
      ]
     },
     "execution_count": 18,
     "metadata": {},
     "output_type": "execute_result"
    }
   ],
   "source": [
    "lazy_query.explain()"
   ]
  },
  {
   "cell_type": "code",
   "execution_count": 19,
   "id": "b0a40434",
   "metadata": {},
   "outputs": [
    {
     "name": "stdout",
     "output_type": "stream",
     "text": [
      "<class 'polars.lazyframe.frame.LazyFrame'>\n",
      "<class 'polars.dataframe.frame.DataFrame'>\n"
     ]
    }
   ],
   "source": [
    "# returns a regular polars data frame, not a lazy frame\n",
    "query_results = lazy_query.collect()\n",
    "print(type(lazy_query))\n",
    "print(type(query_results))"
   ]
  },
  {
   "cell_type": "code",
   "execution_count": 20,
   "id": "64d737dd",
   "metadata": {},
   "outputs": [
    {
     "data": {
      "text/html": [
       "<div><style>\n",
       ".dataframe > thead > tr,\n",
       ".dataframe > tbody > tr {\n",
       "  text-align: right;\n",
       "  white-space: pre-wrap;\n",
       "}\n",
       "</style>\n",
       "<small>shape: (9, 2)</small><table border=\"1\" class=\"dataframe\"><thead><tr><th>statistic</th><th>body_mass_kg</th></tr><tr><td>str</td><td>f64</td></tr></thead><tbody><tr><td>&quot;count&quot;</td><td>61.0</td></tr><tr><td>&quot;null_count&quot;</td><td>0.0</td></tr><tr><td>&quot;mean&quot;</td><td>5.484836</td></tr><tr><td>&quot;std&quot;</td><td>0.313159</td></tr><tr><td>&quot;min&quot;</td><td>4.75</td></tr><tr><td>&quot;25%&quot;</td><td>5.3</td></tr><tr><td>&quot;50%&quot;</td><td>5.5</td></tr><tr><td>&quot;75%&quot;</td><td>5.7</td></tr><tr><td>&quot;max&quot;</td><td>6.3</td></tr></tbody></table></div>"
      ],
      "text/plain": [
       "shape: (9, 2)\n",
       "┌────────────┬──────────────┐\n",
       "│ statistic  ┆ body_mass_kg │\n",
       "│ ---        ┆ ---          │\n",
       "│ str        ┆ f64          │\n",
       "╞════════════╪══════════════╡\n",
       "│ count      ┆ 61.0         │\n",
       "│ null_count ┆ 0.0          │\n",
       "│ mean       ┆ 5.484836     │\n",
       "│ std        ┆ 0.313159     │\n",
       "│ min        ┆ 4.75         │\n",
       "│ 25%        ┆ 5.3          │\n",
       "│ 50%        ┆ 5.5          │\n",
       "│ 75%        ┆ 5.7          │\n",
       "│ max        ┆ 6.3          │\n",
       "└────────────┴──────────────┘"
      ]
     },
     "execution_count": 20,
     "metadata": {},
     "output_type": "execute_result"
    }
   ],
   "source": [
    "query_results.describe()"
   ]
  },
  {
   "cell_type": "markdown",
   "id": "d3f6521e",
   "metadata": {},
   "source": [
    "# Streaming\n",
    "\n",
    "Default is to analyze all the data in memory. For streaming the data in batches, just specify as an argument in .collect()"
   ]
  },
  {
   "cell_type": "code",
   "execution_count": 21,
   "id": "ec86b322",
   "metadata": {},
   "outputs": [
    {
     "data": {
      "text/html": [
       "<div><style>\n",
       ".dataframe > thead > tr,\n",
       ".dataframe > tbody > tr {\n",
       "  text-align: right;\n",
       "  white-space: pre-wrap;\n",
       "}\n",
       "</style>\n",
       "<small>shape: (61, 1)</small><table border=\"1\" class=\"dataframe\"><thead><tr><th>body_mass_kg</th></tr><tr><td>f64</td></tr></thead><tbody><tr><td>5.7</td></tr><tr><td>5.7</td></tr><tr><td>5.4</td></tr><tr><td>5.2</td></tr><tr><td>5.15</td></tr><tr><td>&hellip;</td></tr><tr><td>5.5</td></tr><tr><td>5.85</td></tr><tr><td>6.0</td></tr><tr><td>5.75</td></tr><tr><td>5.4</td></tr></tbody></table></div>"
      ],
      "text/plain": [
       "shape: (61, 1)\n",
       "┌──────────────┐\n",
       "│ body_mass_kg │\n",
       "│ ---          │\n",
       "│ f64          │\n",
       "╞══════════════╡\n",
       "│ 5.7          │\n",
       "│ 5.7          │\n",
       "│ 5.4          │\n",
       "│ 5.2          │\n",
       "│ 5.15         │\n",
       "│ …            │\n",
       "│ 5.5          │\n",
       "│ 5.85         │\n",
       "│ 6.0          │\n",
       "│ 5.75         │\n",
       "│ 5.4          │\n",
       "└──────────────┘"
      ]
     },
     "execution_count": 21,
     "metadata": {},
     "output_type": "execute_result"
    }
   ],
   "source": [
    "lazy_query.collect(engine=\"streaming\")"
   ]
  },
  {
   "cell_type": "markdown",
   "id": "8d9662d4",
   "metadata": {},
   "source": [
    "# Advanced\n",
    "## Loading multiple MySQL tables into Polars"
   ]
  },
  {
   "cell_type": "code",
   "execution_count": null,
   "id": "6851b157",
   "metadata": {},
   "outputs": [
    {
     "data": {
      "text/html": [
       "<div><style>\n",
       ".dataframe > thead > tr,\n",
       ".dataframe > tbody > tr {\n",
       "  text-align: right;\n",
       "  white-space: pre-wrap;\n",
       "}\n",
       "</style>\n",
       "<small>shape: (952, 9)</small><table border=\"1\" class=\"dataframe\"><thead><tr><th>subject_id</th><th>setup</th><th>session_start_time</th><th>session_stop_time</th><th>experimenter</th><th>session_path</th><th>session_datetime</th><th>hammer</th><th>recording_software</th></tr><tr><td>i64</td><td>i64</td><td>i64</td><td>i64</td><td>str</td><td>str</td><td>datetime[μs]</td><td>bool</td><td>str</td></tr></thead><tbody><tr><td>0</td><td>1</td><td>3823382878158</td><td>3823382886081</td><td>&quot;Yang&quot;</td><td>&quot;/raw/Testing/2025-02-25_18-47-56&quot;</td><td>2025-02-25 18:47:58</td><td>false</td><td>&quot;Acquisition2.0&quot;</td></tr><tr><td>0</td><td>1</td><td>3823383008327</td><td>0</td><td>&quot;Yang&quot;</td><td>&quot;/raw/Testing/2025-02-25_18-50-06&quot;</td><td>2025-02-25 18:50:08</td><td>false</td><td>&quot;Acquisition2.0&quot;</td></tr><tr><td>0</td><td>1</td><td>3823383202517</td><td>3823383202624</td><td>&quot;Yang&quot;</td><td>&quot;/raw/Testing/2025-02-25_18-53-22&quot;</td><td>2025-02-25 18:53:22</td><td>false</td><td>&quot;Acquisition2.0&quot;</td></tr><tr><td>0</td><td>1</td><td>3823383216880</td><td>3823383228390</td><td>&quot;Yang&quot;</td><td>&quot;/raw/Testing/2025-02-25_18-53-36&quot;</td><td>2025-02-25 18:53:36</td><td>false</td><td>&quot;Acquisition2.0&quot;</td></tr><tr><td>0</td><td>1</td><td>3823383277795</td><td>3823383379143</td><td>&quot;Yang&quot;</td><td>&quot;/raw/Testing/2025-02-25_18-54-37&quot;</td><td>2025-02-25 18:54:37</td><td>false</td><td>&quot;Acquisition2.0&quot;</td></tr><tr><td>&hellip;</td><td>&hellip;</td><td>&hellip;</td><td>&hellip;</td><td>&hellip;</td><td>&hellip;</td><td>&hellip;</td><td>&hellip;</td><td>&hellip;</td></tr><tr><td>37</td><td>1</td><td>3838392850052</td><td>3838403772921</td><td>&quot;Hannah&quot;</td><td>&quot;/raw/Goliath/2025-08-18_13-14-09&quot;</td><td>2025-08-18 13:14:10</td><td>false</td><td>&quot;Acquisition2.0&quot;</td></tr><tr><td>37</td><td>2</td><td>3827159280718</td><td>3827160327303</td><td>&quot;Jo&quot;</td><td>&quot;/raw/Goliath/2025-04-10_12-48-00&quot;</td><td>2025-04-10 12:48:00</td><td>false</td><td>&quot;Acquisition2.0&quot;</td></tr><tr><td>37</td><td>2</td><td>3827160514710</td><td>3827170603544</td><td>&quot;Jo&quot;</td><td>&quot;/raw/Goliath/2025-04-10_13-08-34&quot;</td><td>2025-04-10 13:08:34</td><td>false</td><td>&quot;Acquisition2.0&quot;</td></tr><tr><td>37</td><td>2</td><td>3831304332670</td><td>3831304749379</td><td>&quot;Jo&quot;</td><td>&quot;/raw/Goliath/2025-05-28_12-12-11&quot;</td><td>2025-05-28 12:12:12</td><td>false</td><td>&quot;Acquisition2.0&quot;</td></tr><tr><td>37</td><td>2</td><td>3831304809199</td><td>3831311721768</td><td>&quot;Jo&quot;</td><td>&quot;/raw/Goliath/2025-05-28_12-20-08&quot;</td><td>2025-05-28 12:20:09</td><td>false</td><td>&quot;Acquisition2.0&quot;</td></tr></tbody></table></div>"
      ],
      "text/plain": [
       "shape: (952, 9)\n",
       "┌────────────┬───────┬────────────┬────────────┬───┬────────────┬────────────┬────────┬────────────┐\n",
       "│ subject_id ┆ setup ┆ session_st ┆ session_st ┆ … ┆ session_pa ┆ session_da ┆ hammer ┆ recording_ │\n",
       "│ ---        ┆ ---   ┆ art_time   ┆ op_time    ┆   ┆ th         ┆ tetime     ┆ ---    ┆ software   │\n",
       "│ i64        ┆ i64   ┆ ---        ┆ ---        ┆   ┆ ---        ┆ ---        ┆ bool   ┆ ---        │\n",
       "│            ┆       ┆ i64        ┆ i64        ┆   ┆ str        ┆ datetime[μ ┆        ┆ str        │\n",
       "│            ┆       ┆            ┆            ┆   ┆            ┆ s]         ┆        ┆            │\n",
       "╞════════════╪═══════╪════════════╪════════════╪═══╪════════════╪════════════╪════════╪════════════╡\n",
       "│ 0          ┆ 1     ┆ 3823382878 ┆ 3823382886 ┆ … ┆ /raw/Testi ┆ 2025-02-25 ┆ false  ┆ Acquisitio │\n",
       "│            ┆       ┆ 158        ┆ 081        ┆   ┆ ng/2025-02 ┆ 18:47:58   ┆        ┆ n2.0       │\n",
       "│            ┆       ┆            ┆            ┆   ┆ -25_18-47- ┆            ┆        ┆            │\n",
       "│            ┆       ┆            ┆            ┆   ┆ 56         ┆            ┆        ┆            │\n",
       "│ 0          ┆ 1     ┆ 3823383008 ┆ 0          ┆ … ┆ /raw/Testi ┆ 2025-02-25 ┆ false  ┆ Acquisitio │\n",
       "│            ┆       ┆ 327        ┆            ┆   ┆ ng/2025-02 ┆ 18:50:08   ┆        ┆ n2.0       │\n",
       "│            ┆       ┆            ┆            ┆   ┆ -25_18-50- ┆            ┆        ┆            │\n",
       "│            ┆       ┆            ┆            ┆   ┆ 06         ┆            ┆        ┆            │\n",
       "│ 0          ┆ 1     ┆ 3823383202 ┆ 3823383202 ┆ … ┆ /raw/Testi ┆ 2025-02-25 ┆ false  ┆ Acquisitio │\n",
       "│            ┆       ┆ 517        ┆ 624        ┆   ┆ ng/2025-02 ┆ 18:53:22   ┆        ┆ n2.0       │\n",
       "│            ┆       ┆            ┆            ┆   ┆ -25_18-53- ┆            ┆        ┆            │\n",
       "│            ┆       ┆            ┆            ┆   ┆ 22         ┆            ┆        ┆            │\n",
       "│ 0          ┆ 1     ┆ 3823383216 ┆ 3823383228 ┆ … ┆ /raw/Testi ┆ 2025-02-25 ┆ false  ┆ Acquisitio │\n",
       "│            ┆       ┆ 880        ┆ 390        ┆   ┆ ng/2025-02 ┆ 18:53:36   ┆        ┆ n2.0       │\n",
       "│            ┆       ┆            ┆            ┆   ┆ -25_18-53- ┆            ┆        ┆            │\n",
       "│            ┆       ┆            ┆            ┆   ┆ 36         ┆            ┆        ┆            │\n",
       "│ 0          ┆ 1     ┆ 3823383277 ┆ 3823383379 ┆ … ┆ /raw/Testi ┆ 2025-02-25 ┆ false  ┆ Acquisitio │\n",
       "│            ┆       ┆ 795        ┆ 143        ┆   ┆ ng/2025-02 ┆ 18:54:37   ┆        ┆ n2.0       │\n",
       "│            ┆       ┆            ┆            ┆   ┆ -25_18-54- ┆            ┆        ┆            │\n",
       "│            ┆       ┆            ┆            ┆   ┆ 37         ┆            ┆        ┆            │\n",
       "│ …          ┆ …     ┆ …          ┆ …          ┆ … ┆ …          ┆ …          ┆ …      ┆ …          │\n",
       "│ 37         ┆ 1     ┆ 3838392850 ┆ 3838403772 ┆ … ┆ /raw/Golia ┆ 2025-08-18 ┆ false  ┆ Acquisitio │\n",
       "│            ┆       ┆ 052        ┆ 921        ┆   ┆ th/2025-08 ┆ 13:14:10   ┆        ┆ n2.0       │\n",
       "│            ┆       ┆            ┆            ┆   ┆ -18_13-14- ┆            ┆        ┆            │\n",
       "│            ┆       ┆            ┆            ┆   ┆ 09         ┆            ┆        ┆            │\n",
       "│ 37         ┆ 2     ┆ 3827159280 ┆ 3827160327 ┆ … ┆ /raw/Golia ┆ 2025-04-10 ┆ false  ┆ Acquisitio │\n",
       "│            ┆       ┆ 718        ┆ 303        ┆   ┆ th/2025-04 ┆ 12:48:00   ┆        ┆ n2.0       │\n",
       "│            ┆       ┆            ┆            ┆   ┆ -10_12-48- ┆            ┆        ┆            │\n",
       "│            ┆       ┆            ┆            ┆   ┆ 00         ┆            ┆        ┆            │\n",
       "│ 37         ┆ 2     ┆ 3827160514 ┆ 3827170603 ┆ … ┆ /raw/Golia ┆ 2025-04-10 ┆ false  ┆ Acquisitio │\n",
       "│            ┆       ┆ 710        ┆ 544        ┆   ┆ th/2025-04 ┆ 13:08:34   ┆        ┆ n2.0       │\n",
       "│            ┆       ┆            ┆            ┆   ┆ -10_13-08- ┆            ┆        ┆            │\n",
       "│            ┆       ┆            ┆            ┆   ┆ 34         ┆            ┆        ┆            │\n",
       "│ 37         ┆ 2     ┆ 3831304332 ┆ 3831304749 ┆ … ┆ /raw/Golia ┆ 2025-05-28 ┆ false  ┆ Acquisitio │\n",
       "│            ┆       ┆ 670        ┆ 379        ┆   ┆ th/2025-05 ┆ 12:12:12   ┆        ┆ n2.0       │\n",
       "│            ┆       ┆            ┆            ┆   ┆ -28_12-12- ┆            ┆        ┆            │\n",
       "│            ┆       ┆            ┆            ┆   ┆ 11         ┆            ┆        ┆            │\n",
       "│ 37         ┆ 2     ┆ 3831304809 ┆ 3831311721 ┆ … ┆ /raw/Golia ┆ 2025-05-28 ┆ false  ┆ Acquisitio │\n",
       "│            ┆       ┆ 199        ┆ 768        ┆   ┆ th/2025-05 ┆ 12:20:09   ┆        ┆ n2.0       │\n",
       "│            ┆       ┆            ┆            ┆   ┆ -28_12-20- ┆            ┆        ┆            │\n",
       "│            ┆       ┆            ┆            ┆   ┆ 08         ┆            ┆        ┆            │\n",
       "└────────────┴───────┴────────────┴────────────┴───┴────────────┴────────────┴────────┴────────────┘"
      ]
     },
     "execution_count": 57,
     "metadata": {},
     "output_type": "execute_result"
    }
   ],
   "source": [
    "# !pip install connectorx\n",
    "from urllib.parse import quote\n",
    "from getpass import getpass\n",
    "\n",
    "user = \"barnold\"\n",
    "pswd = quote(getpass('Database password: ')) # Prompt user for password; don't store in code. Use quote() to encode special characters in passwords\n",
    "server = \"at-database3.stanford.edu\"\n",
    "port = 3306\n",
    "database = \"enigma_acq\"\n",
    "tables = [\"sessions\", \"stimulation\", \"behavior_traces\"]\n",
    "\n",
    "\n",
    "uri = f\"mysql://{user}:{pswd}@{server}:{port}/{database}\" \n",
    "dfs = {}\n",
    "for table in tables:\n",
    "    query = f\"SELECT * FROM {table}\"\n",
    "    dfs[table] = pl.read_database_uri(query=query, uri=uri)\n",
    "\n",
    "dfs['sessions']"
   ]
  },
  {
   "cell_type": "markdown",
   "id": "d4f34d09",
   "metadata": {},
   "source": [
    "# Advanced: conditional assignment with window function\n",
    "\n",
    "When multiple .when().then() statementes are used, Polars only considers a replacement expression that is deeper in the chain if the previous ones (predicates) all failed for that value."
   ]
  },
  {
   "cell_type": "code",
   "execution_count": null,
   "id": "94dfe139",
   "metadata": {},
   "outputs": [
    {
     "data": {
      "text/html": [
       "<div><style>\n",
       ".dataframe > thead > tr,\n",
       ".dataframe > tbody > tr {\n",
       "  text-align: right;\n",
       "  white-space: pre-wrap;\n",
       "}\n",
       "</style>\n",
       "<small>shape: (10, 3)</small><table border=\"1\" class=\"dataframe\"><thead><tr><th>species</th><th>swim_score</th><th>swim_score_category</th></tr><tr><td>str</td><td>f64</td><td>str</td></tr></thead><tbody><tr><td>&quot;Adelie&quot;</td><td>52.715232</td><td>&quot;fast&quot;</td></tr><tr><td>&quot;Gentoo&quot;</td><td>42.285714</td><td>&quot;intermediate&quot;</td></tr><tr><td>&quot;Adelie&quot;</td><td>64.482759</td><td>&quot;really_fast&quot;</td></tr><tr><td>&quot;Gentoo&quot;</td><td>45.957447</td><td>&quot;really_fast&quot;</td></tr><tr><td>&quot;Chinstrap&quot;</td><td>58.4375</td><td>&quot;really_fast&quot;</td></tr><tr><td>&quot;Adelie&quot;</td><td>52.394366</td><td>&quot;fast&quot;</td></tr><tr><td>&quot;Adelie&quot;</td><td>44.318182</td><td>&quot;slow&quot;</td></tr><tr><td>&quot;Adelie&quot;</td><td>55.942029</td><td>&quot;fast&quot;</td></tr><tr><td>&quot;Gentoo&quot;</td><td>38.0</td><td>&quot;slow&quot;</td></tr><tr><td>&quot;Gentoo&quot;</td><td>46.021505</td><td>&quot;really_fast&quot;</td></tr></tbody></table></div>"
      ],
      "text/plain": [
       "shape: (10, 3)\n",
       "┌───────────┬────────────┬─────────────────────┐\n",
       "│ species   ┆ swim_score ┆ swim_score_category │\n",
       "│ ---       ┆ ---        ┆ ---                 │\n",
       "│ str       ┆ f64        ┆ str                 │\n",
       "╞═══════════╪════════════╪═════════════════════╡\n",
       "│ Adelie    ┆ 52.715232  ┆ fast                │\n",
       "│ Gentoo    ┆ 42.285714  ┆ intermediate        │\n",
       "│ Adelie    ┆ 64.482759  ┆ really_fast         │\n",
       "│ Gentoo    ┆ 45.957447  ┆ really_fast         │\n",
       "│ Chinstrap ┆ 58.4375    ┆ really_fast         │\n",
       "│ Adelie    ┆ 52.394366  ┆ fast                │\n",
       "│ Adelie    ┆ 44.318182  ┆ slow                │\n",
       "│ Adelie    ┆ 55.942029  ┆ fast                │\n",
       "│ Gentoo    ┆ 38.0       ┆ slow                │\n",
       "│ Gentoo    ┆ 46.021505  ┆ really_fast         │\n",
       "└───────────┴────────────┴─────────────────────┘"
      ]
     },
     "execution_count": 35,
     "metadata": {},
     "output_type": "execute_result"
    }
   ],
   "source": [
    "# in separate pieces\n",
    "\n",
    "quantiles = (\n",
    "   df.group_by([\"species\"]).agg(\n",
    "        pl.col(\"swim_score\").quantile(0.25).alias(\"q1_swim_score\"),\n",
    "        pl.col(\"swim_score\").quantile(0.5).alias(\"q2_swim_score\"),\n",
    "        pl.col(\"swim_score\").quantile(0.75).alias(\"q3_swim_score\"),\n",
    "    )\n",
    ")\n",
    "df_w_quant = df.join(quantiles, on=\"species\")\n",
    "df_w_quant = df_w_quant.with_columns(\n",
    "    pl.when(pl.col(\"swim_score\") <= pl.col(\"q1_swim_score\"))\n",
    "    .then(pl.lit(\"slow\")) # need pl.lit() otherwise Polars treats it as a column\n",
    "    .when(pl.col(\"swim_score\") <= pl.col(\"q2_swim_score\"))\n",
    "    .then(pl.lit(\"intermediate\"))\n",
    "    .when(pl.col(\"swim_score\") <= pl.col(\"q3_swim_score\"))\n",
    "    .then(pl.lit(\"fast\"))\n",
    "    .otherwise(pl.lit(\"really_fast\"))\n",
    "    .alias(\"swim_score_category\")\n",
    ").select(\n",
    "    \"species\", \"swim_score\", \"swim_score_category\"\n",
    ").sort(by=\"species\")\n",
    "\n",
    "df_w_quant.sample(10)\n"
   ]
  },
  {
   "cell_type": "code",
   "execution_count": null,
   "id": "8c6b05c2",
   "metadata": {},
   "outputs": [
    {
     "data": {
      "text/html": [
       "<div><style>\n",
       ".dataframe > thead > tr,\n",
       ".dataframe > tbody > tr {\n",
       "  text-align: right;\n",
       "  white-space: pre-wrap;\n",
       "}\n",
       "</style>\n",
       "<small>shape: (344, 11)</small><table border=\"1\" class=\"dataframe\"><thead><tr><th>species</th><th>island</th><th>bill_length_mm</th><th>bill_depth_mm</th><th>flipper_length_mm</th><th>body_mass_g</th><th>sex</th><th>year</th><th>body_mass_kg</th><th>swim_score</th><th>swim_score_category</th></tr><tr><td>str</td><td>str</td><td>f64</td><td>f64</td><td>f64</td><td>f64</td><td>str</td><td>i64</td><td>f64</td><td>f64</td><td>str</td></tr></thead><tbody><tr><td>&quot;Adelie&quot;</td><td>&quot;Torgersen&quot;</td><td>39.1</td><td>18.7</td><td>181.0</td><td>3750.0</td><td>&quot;male&quot;</td><td>2007</td><td>3.75</td><td>48.266667</td><td>&quot;intermediate&quot;</td></tr><tr><td>&quot;Adelie&quot;</td><td>&quot;Torgersen&quot;</td><td>39.5</td><td>17.4</td><td>186.0</td><td>3800.0</td><td>&quot;female&quot;</td><td>2007</td><td>3.8</td><td>48.947368</td><td>&quot;intermediate&quot;</td></tr><tr><td>&quot;Adelie&quot;</td><td>&quot;Torgersen&quot;</td><td>40.3</td><td>18.0</td><td>195.0</td><td>3250.0</td><td>&quot;female&quot;</td><td>2007</td><td>3.25</td><td>60.0</td><td>&quot;really_fast&quot;</td></tr><tr><td>&quot;Adelie&quot;</td><td>&quot;Torgersen&quot;</td><td>null</td><td>null</td><td>null</td><td>null</td><td>null</td><td>2007</td><td>null</td><td>null</td><td>&quot;really_fast&quot;</td></tr><tr><td>&quot;Adelie&quot;</td><td>&quot;Torgersen&quot;</td><td>36.7</td><td>19.3</td><td>193.0</td><td>3450.0</td><td>&quot;female&quot;</td><td>2007</td><td>3.45</td><td>55.942029</td><td>&quot;fast&quot;</td></tr><tr><td>&hellip;</td><td>&hellip;</td><td>&hellip;</td><td>&hellip;</td><td>&hellip;</td><td>&hellip;</td><td>&hellip;</td><td>&hellip;</td><td>&hellip;</td><td>&hellip;</td><td>&hellip;</td></tr><tr><td>&quot;Chinstrap&quot;</td><td>&quot;Dream&quot;</td><td>55.8</td><td>19.8</td><td>207.0</td><td>4000.0</td><td>&quot;male&quot;</td><td>2009</td><td>4.0</td><td>51.75</td><td>&quot;intermediate&quot;</td></tr><tr><td>&quot;Chinstrap&quot;</td><td>&quot;Dream&quot;</td><td>43.5</td><td>18.1</td><td>202.0</td><td>3400.0</td><td>&quot;female&quot;</td><td>2009</td><td>3.4</td><td>59.411765</td><td>&quot;really_fast&quot;</td></tr><tr><td>&quot;Chinstrap&quot;</td><td>&quot;Dream&quot;</td><td>49.6</td><td>18.2</td><td>193.0</td><td>3775.0</td><td>&quot;male&quot;</td><td>2009</td><td>3.775</td><td>51.125828</td><td>&quot;intermediate&quot;</td></tr><tr><td>&quot;Chinstrap&quot;</td><td>&quot;Dream&quot;</td><td>50.8</td><td>19.0</td><td>210.0</td><td>4100.0</td><td>&quot;male&quot;</td><td>2009</td><td>4.1</td><td>51.219512</td><td>&quot;intermediate&quot;</td></tr><tr><td>&quot;Chinstrap&quot;</td><td>&quot;Dream&quot;</td><td>50.2</td><td>18.7</td><td>198.0</td><td>3775.0</td><td>&quot;female&quot;</td><td>2009</td><td>3.775</td><td>52.450331</td><td>&quot;intermediate&quot;</td></tr></tbody></table></div>"
      ],
      "text/plain": [
       "shape: (344, 11)\n",
       "┌───────────┬───────────┬────────────┬────────────┬───┬──────┬────────────┬────────────┬───────────┐\n",
       "│ species   ┆ island    ┆ bill_lengt ┆ bill_depth ┆ … ┆ year ┆ body_mass_ ┆ swim_score ┆ swim_scor │\n",
       "│ ---       ┆ ---       ┆ h_mm       ┆ _mm        ┆   ┆ ---  ┆ kg         ┆ ---        ┆ e_categor │\n",
       "│ str       ┆ str       ┆ ---        ┆ ---        ┆   ┆ i64  ┆ ---        ┆ f64        ┆ y         │\n",
       "│           ┆           ┆ f64        ┆ f64        ┆   ┆      ┆ f64        ┆            ┆ ---       │\n",
       "│           ┆           ┆            ┆            ┆   ┆      ┆            ┆            ┆ str       │\n",
       "╞═══════════╪═══════════╪════════════╪════════════╪═══╪══════╪════════════╪════════════╪═══════════╡\n",
       "│ Adelie    ┆ Torgersen ┆ 39.1       ┆ 18.7       ┆ … ┆ 2007 ┆ 3.75       ┆ 48.266667  ┆ intermedi │\n",
       "│           ┆           ┆            ┆            ┆   ┆      ┆            ┆            ┆ ate       │\n",
       "│ Adelie    ┆ Torgersen ┆ 39.5       ┆ 17.4       ┆ … ┆ 2007 ┆ 3.8        ┆ 48.947368  ┆ intermedi │\n",
       "│           ┆           ┆            ┆            ┆   ┆      ┆            ┆            ┆ ate       │\n",
       "│ Adelie    ┆ Torgersen ┆ 40.3       ┆ 18.0       ┆ … ┆ 2007 ┆ 3.25       ┆ 60.0       ┆ really_fa │\n",
       "│           ┆           ┆            ┆            ┆   ┆      ┆            ┆            ┆ st        │\n",
       "│ Adelie    ┆ Torgersen ┆ null       ┆ null       ┆ … ┆ 2007 ┆ null       ┆ null       ┆ really_fa │\n",
       "│           ┆           ┆            ┆            ┆   ┆      ┆            ┆            ┆ st        │\n",
       "│ Adelie    ┆ Torgersen ┆ 36.7       ┆ 19.3       ┆ … ┆ 2007 ┆ 3.45       ┆ 55.942029  ┆ fast      │\n",
       "│ …         ┆ …         ┆ …          ┆ …          ┆ … ┆ …    ┆ …          ┆ …          ┆ …         │\n",
       "│ Chinstrap ┆ Dream     ┆ 55.8       ┆ 19.8       ┆ … ┆ 2009 ┆ 4.0        ┆ 51.75      ┆ intermedi │\n",
       "│           ┆           ┆            ┆            ┆   ┆      ┆            ┆            ┆ ate       │\n",
       "│ Chinstrap ┆ Dream     ┆ 43.5       ┆ 18.1       ┆ … ┆ 2009 ┆ 3.4        ┆ 59.411765  ┆ really_fa │\n",
       "│           ┆           ┆            ┆            ┆   ┆      ┆            ┆            ┆ st        │\n",
       "│ Chinstrap ┆ Dream     ┆ 49.6       ┆ 18.2       ┆ … ┆ 2009 ┆ 3.775      ┆ 51.125828  ┆ intermedi │\n",
       "│           ┆           ┆            ┆            ┆   ┆      ┆            ┆            ┆ ate       │\n",
       "│ Chinstrap ┆ Dream     ┆ 50.8       ┆ 19.0       ┆ … ┆ 2009 ┆ 4.1        ┆ 51.219512  ┆ intermedi │\n",
       "│           ┆           ┆            ┆            ┆   ┆      ┆            ┆            ┆ ate       │\n",
       "│ Chinstrap ┆ Dream     ┆ 50.2       ┆ 18.7       ┆ … ┆ 2009 ┆ 3.775      ┆ 52.450331  ┆ intermedi │\n",
       "│           ┆           ┆            ┆            ┆   ┆      ┆            ┆            ┆ ate       │\n",
       "└───────────┴───────────┴────────────┴────────────┴───┴──────┴────────────┴────────────┴───────────┘"
      ]
     },
     "execution_count": 36,
     "metadata": {},
     "output_type": "execute_result"
    }
   ],
   "source": [
    "# in a single step, using windows functions\n",
    "df_categorized = df.with_columns(\n",
    "    pl.col(\"swim_score\").quantile(0.25).over(\"species\").alias(\"q1\"),\n",
    "    pl.col(\"swim_score\").quantile(0.5).over(\"species\").alias(\"q2\"), \n",
    "    pl.col(\"swim_score\").quantile(0.75).over(\"species\").alias(\"q3\"),\n",
    ").with_columns(\n",
    "    pl.when(pl.col(\"swim_score\") <= pl.col(\"q1\"))\n",
    "    .then(pl.lit(\"slow\"))\n",
    "    .when(pl.col(\"swim_score\") <= pl.col(\"q2\"))\n",
    "    .then(pl.lit(\"intermediate\"))\n",
    "    .when(pl.col(\"swim_score\") <= pl.col(\"q3\"))\n",
    "    .then(pl.lit(\"fast\"))\n",
    "    .otherwise(pl.lit(\"really_fast\"))\n",
    "    .alias(\"swim_score_category\")\n",
    ").drop([\"q1\", \"q2\", \"q3\"])  # Remove temporary quantile columns\n",
    "df_categorized"
   ]
  },
  {
   "cell_type": "code",
   "execution_count": 24,
   "id": "03941fc3",
   "metadata": {},
   "outputs": [
    {
     "ename": "ColumnNotFoundError",
     "evalue": "unable to find column \"slow\"; valid columns: [\"species\", \"island\", \"bill_length_mm\", \"bill_depth_mm\", \"flipper_length_mm\", \"body_mass_g\", \"sex\", \"year\", \"body_mass_kg\", \"swim_score\", \"q1_swim_score\", \"q2_swim_score\", \"q3_swim_score\", \"max_swim_score\"]",
     "output_type": "error",
     "traceback": [
      "\u001b[31m---------------------------------------------------------------------------\u001b[39m",
      "\u001b[31mColumnNotFoundError\u001b[39m                       Traceback (most recent call last)",
      "\u001b[36mCell\u001b[39m\u001b[36m \u001b[39m\u001b[32mIn[24]\u001b[39m\u001b[32m, line 1\u001b[39m\n\u001b[32m----> \u001b[39m\u001b[32m1\u001b[39m df_w_quant = \u001b[43mdf_w_quant\u001b[49m\u001b[43m.\u001b[49m\u001b[43mwith_columns\u001b[49m\u001b[43m(\u001b[49m\n\u001b[32m      2\u001b[39m \u001b[43m    \u001b[49m\u001b[43mpl\u001b[49m\u001b[43m.\u001b[49m\u001b[43mwhen\u001b[49m\u001b[43m(\u001b[49m\u001b[43mpl\u001b[49m\u001b[43m.\u001b[49m\u001b[43mcol\u001b[49m\u001b[43m(\u001b[49m\u001b[33;43m\"\u001b[39;49m\u001b[33;43mswim_score\u001b[39;49m\u001b[33;43m\"\u001b[39;49m\u001b[43m)\u001b[49m\u001b[43m \u001b[49m\u001b[43m<\u001b[49m\u001b[43m=\u001b[49m\u001b[43m \u001b[49m\u001b[43mpl\u001b[49m\u001b[43m.\u001b[49m\u001b[43mcol\u001b[49m\u001b[43m(\u001b[49m\u001b[33;43m\"\u001b[39;49m\u001b[33;43mq1_swim_score\u001b[39;49m\u001b[33;43m\"\u001b[39;49m\u001b[43m)\u001b[49m\u001b[43m)\u001b[49m\n\u001b[32m      3\u001b[39m \u001b[43m    \u001b[49m\u001b[43m.\u001b[49m\u001b[43mthen\u001b[49m\u001b[43m(\u001b[49m\u001b[33;43m\"\u001b[39;49m\u001b[33;43mslow\u001b[39;49m\u001b[33;43m\"\u001b[39;49m\u001b[43m)\u001b[49m\n\u001b[32m      4\u001b[39m \u001b[43m    \u001b[49m\u001b[43m.\u001b[49m\u001b[43mwhen\u001b[49m\u001b[43m(\u001b[49m\u001b[43mpl\u001b[49m\u001b[43m.\u001b[49m\u001b[43mcol\u001b[49m\u001b[43m(\u001b[49m\u001b[33;43m\"\u001b[39;49m\u001b[33;43mswim_score\u001b[39;49m\u001b[33;43m\"\u001b[39;49m\u001b[43m)\u001b[49m\u001b[43m \u001b[49m\u001b[43m<\u001b[49m\u001b[43m=\u001b[49m\u001b[43m \u001b[49m\u001b[43mpl\u001b[49m\u001b[43m.\u001b[49m\u001b[43mcol\u001b[49m\u001b[43m(\u001b[49m\u001b[33;43m\"\u001b[39;49m\u001b[33;43mq3_swim_score\u001b[39;49m\u001b[33;43m\"\u001b[39;49m\u001b[43m)\u001b[49m\u001b[43m)\u001b[49m\n\u001b[32m      5\u001b[39m \u001b[43m    \u001b[49m\u001b[43m.\u001b[49m\u001b[43mthen\u001b[49m\u001b[43m(\u001b[49m\u001b[33;43m\"\u001b[39;49m\u001b[33;43mintermediate\u001b[39;49m\u001b[33;43m\"\u001b[39;49m\u001b[43m)\u001b[49m\n\u001b[32m      6\u001b[39m \u001b[43m    \u001b[49m\u001b[43m.\u001b[49m\u001b[43motherwise\u001b[49m\u001b[43m(\u001b[49m\u001b[33;43m\"\u001b[39;49m\u001b[33;43mfast\u001b[39;49m\u001b[33;43m\"\u001b[39;49m\u001b[43m)\u001b[49m\n\u001b[32m      7\u001b[39m \u001b[43m    \u001b[49m\u001b[43m.\u001b[49m\u001b[43malias\u001b[49m\u001b[43m(\u001b[49m\u001b[33;43m\"\u001b[39;49m\u001b[33;43mswim_score_category\u001b[39;49m\u001b[33;43m\"\u001b[39;49m\u001b[43m)\u001b[49m\n\u001b[32m      8\u001b[39m \u001b[43m)\u001b[49m\n",
      "\u001b[36mFile \u001b[39m\u001b[32m~/.pyenv/versions/enigma-env/lib/python3.11/site-packages/polars/dataframe/frame.py:10022\u001b[39m, in \u001b[36mDataFrame.with_columns\u001b[39m\u001b[34m(self, *exprs, **named_exprs)\u001b[39m\n\u001b[32m   9895\u001b[39m \u001b[38;5;250m\u001b[39m\u001b[33;03m\"\"\"\u001b[39;00m\n\u001b[32m   9896\u001b[39m \u001b[33;03mAdd columns to this DataFrame.\u001b[39;00m\n\u001b[32m   9897\u001b[39m \n\u001b[32m   (...)\u001b[39m\u001b[32m  10015\u001b[39m \u001b[33;03m└─────┴──────┴───────┴──────┴───────┘\u001b[39;00m\n\u001b[32m  10016\u001b[39m \u001b[33;03m\"\"\"\u001b[39;00m\n\u001b[32m  10017\u001b[39m \u001b[38;5;28;01mfrom\u001b[39;00m\u001b[38;5;250m \u001b[39m\u001b[34;01mpolars\u001b[39;00m\u001b[34;01m.\u001b[39;00m\u001b[34;01mlazyframe\u001b[39;00m\u001b[34;01m.\u001b[39;00m\u001b[34;01mopt_flags\u001b[39;00m\u001b[38;5;250m \u001b[39m\u001b[38;5;28;01mimport\u001b[39;00m QueryOptFlags\n\u001b[32m  10019\u001b[39m \u001b[38;5;28;01mreturn\u001b[39;00m (\n\u001b[32m  10020\u001b[39m     \u001b[38;5;28;43mself\u001b[39;49m\u001b[43m.\u001b[49m\u001b[43mlazy\u001b[49m\u001b[43m(\u001b[49m\u001b[43m)\u001b[49m\n\u001b[32m  10021\u001b[39m \u001b[43m    \u001b[49m\u001b[43m.\u001b[49m\u001b[43mwith_columns\u001b[49m\u001b[43m(\u001b[49m\u001b[43m*\u001b[49m\u001b[43mexprs\u001b[49m\u001b[43m,\u001b[49m\u001b[43m \u001b[49m\u001b[43m*\u001b[49m\u001b[43m*\u001b[49m\u001b[43mnamed_exprs\u001b[49m\u001b[43m)\u001b[49m\n\u001b[32m> \u001b[39m\u001b[32m10022\u001b[39m \u001b[43m    \u001b[49m\u001b[43m.\u001b[49m\u001b[43mcollect\u001b[49m\u001b[43m(\u001b[49m\u001b[43moptimizations\u001b[49m\u001b[43m=\u001b[49m\u001b[43mQueryOptFlags\u001b[49m\u001b[43m.\u001b[49m\u001b[43m_eager\u001b[49m\u001b[43m(\u001b[49m\u001b[43m)\u001b[49m\u001b[43m)\u001b[49m\n\u001b[32m  10023\u001b[39m )\n",
      "\u001b[36mFile \u001b[39m\u001b[32m~/.pyenv/versions/enigma-env/lib/python3.11/site-packages/polars/_utils/deprecation.py:97\u001b[39m, in \u001b[36mdeprecate_streaming_parameter.<locals>.decorate.<locals>.wrapper\u001b[39m\u001b[34m(*args, **kwargs)\u001b[39m\n\u001b[32m     93\u001b[39m         kwargs[\u001b[33m\"\u001b[39m\u001b[33mengine\u001b[39m\u001b[33m\"\u001b[39m] = \u001b[33m\"\u001b[39m\u001b[33min-memory\u001b[39m\u001b[33m\"\u001b[39m\n\u001b[32m     95\u001b[39m     \u001b[38;5;28;01mdel\u001b[39;00m kwargs[\u001b[33m\"\u001b[39m\u001b[33mstreaming\u001b[39m\u001b[33m\"\u001b[39m]\n\u001b[32m---> \u001b[39m\u001b[32m97\u001b[39m \u001b[38;5;28;01mreturn\u001b[39;00m \u001b[43mfunction\u001b[49m\u001b[43m(\u001b[49m\u001b[43m*\u001b[49m\u001b[43margs\u001b[49m\u001b[43m,\u001b[49m\u001b[43m \u001b[49m\u001b[43m*\u001b[49m\u001b[43m*\u001b[49m\u001b[43mkwargs\u001b[49m\u001b[43m)\u001b[49m\n",
      "\u001b[36mFile \u001b[39m\u001b[32m~/.pyenv/versions/enigma-env/lib/python3.11/site-packages/polars/lazyframe/opt_flags.py:330\u001b[39m, in \u001b[36mforward_old_opt_flags.<locals>.decorate.<locals>.wrapper\u001b[39m\u001b[34m(*args, **kwargs)\u001b[39m\n\u001b[32m    327\u001b[39m         optflags = cb(optflags, kwargs.pop(key))  \u001b[38;5;66;03m# type: ignore[no-untyped-call,unused-ignore]\u001b[39;00m\n\u001b[32m    329\u001b[39m kwargs[\u001b[33m\"\u001b[39m\u001b[33moptimizations\u001b[39m\u001b[33m\"\u001b[39m] = optflags\n\u001b[32m--> \u001b[39m\u001b[32m330\u001b[39m \u001b[38;5;28;01mreturn\u001b[39;00m \u001b[43mfunction\u001b[49m\u001b[43m(\u001b[49m\u001b[43m*\u001b[49m\u001b[43margs\u001b[49m\u001b[43m,\u001b[49m\u001b[43m \u001b[49m\u001b[43m*\u001b[49m\u001b[43m*\u001b[49m\u001b[43mkwargs\u001b[49m\u001b[43m)\u001b[49m\n",
      "\u001b[36mFile \u001b[39m\u001b[32m~/.pyenv/versions/enigma-env/lib/python3.11/site-packages/polars/lazyframe/frame.py:2335\u001b[39m, in \u001b[36mLazyFrame.collect\u001b[39m\u001b[34m(self, type_coercion, predicate_pushdown, projection_pushdown, simplify_expression, slice_pushdown, comm_subplan_elim, comm_subexpr_elim, cluster_with_columns, collapse_joins, no_optimization, engine, background, optimizations, **_kwargs)\u001b[39m\n\u001b[32m   2333\u001b[39m \u001b[38;5;66;03m# Only for testing purposes\u001b[39;00m\n\u001b[32m   2334\u001b[39m callback = _kwargs.get(\u001b[33m\"\u001b[39m\u001b[33mpost_opt_callback\u001b[39m\u001b[33m\"\u001b[39m, callback)\n\u001b[32m-> \u001b[39m\u001b[32m2335\u001b[39m \u001b[38;5;28;01mreturn\u001b[39;00m wrap_df(\u001b[43mldf\u001b[49m\u001b[43m.\u001b[49m\u001b[43mcollect\u001b[49m\u001b[43m(\u001b[49m\u001b[43mengine\u001b[49m\u001b[43m,\u001b[49m\u001b[43m \u001b[49m\u001b[43mcallback\u001b[49m\u001b[43m)\u001b[49m)\n",
      "\u001b[31mColumnNotFoundError\u001b[39m: unable to find column \"slow\"; valid columns: [\"species\", \"island\", \"bill_length_mm\", \"bill_depth_mm\", \"flipper_length_mm\", \"body_mass_g\", \"sex\", \"year\", \"body_mass_kg\", \"swim_score\", \"q1_swim_score\", \"q2_swim_score\", \"q3_swim_score\", \"max_swim_score\"]"
     ]
    }
   ],
   "source": [
    "df_w_quant = df_w_quant.with_columns(\n",
    "    pl.when(pl.col(\"swim_score\") <= pl.col(\"q1_swim_score\"))\n",
    "    .then(\"slow\")\n",
    "    .when(pl.col(\"swim_score\") <= pl.col(\"q3_swim_score\"))\n",
    "    .then(\"intermediate\")\n",
    "    .otherwise(\"fast\")\n",
    "    .alias(\"swim_score_category\")\n",
    ")"
   ]
  },
  {
   "cell_type": "code",
   "execution_count": null,
   "id": "7925cf8c",
   "metadata": {},
   "outputs": [
    {
     "data": {
      "text/html": [
       "<div><style>\n",
       ".dataframe > thead > tr,\n",
       ".dataframe > tbody > tr {\n",
       "  text-align: right;\n",
       "  white-space: pre-wrap;\n",
       "}\n",
       "</style>\n",
       "<small>shape: (344, 9)</small><table border=\"1\" class=\"dataframe\"><thead><tr><th>species</th><th>island</th><th>bill_length_mm</th><th>bill_depth_mm</th><th>flipper_length_mm</th><th>body_mass_g</th><th>sex</th><th>year</th><th>body_mass_kg</th></tr><tr><td>str</td><td>str</td><td>f64</td><td>f64</td><td>f64</td><td>f64</td><td>str</td><td>i64</td><td>f64</td></tr></thead><tbody><tr><td>&quot;Adelie&quot;</td><td>&quot;Torgersen&quot;</td><td>39.1</td><td>18.7</td><td>181.0</td><td>3750.0</td><td>&quot;male&quot;</td><td>2007</td><td>3.75</td></tr><tr><td>&quot;Adelie&quot;</td><td>&quot;Torgersen&quot;</td><td>39.5</td><td>17.4</td><td>186.0</td><td>3800.0</td><td>&quot;female&quot;</td><td>2007</td><td>3.8</td></tr><tr><td>&quot;Adelie&quot;</td><td>&quot;Torgersen&quot;</td><td>40.3</td><td>18.0</td><td>195.0</td><td>3250.0</td><td>&quot;female&quot;</td><td>2007</td><td>3.25</td></tr><tr><td>&quot;Adelie&quot;</td><td>&quot;Torgersen&quot;</td><td>null</td><td>null</td><td>null</td><td>null</td><td>null</td><td>2007</td><td>null</td></tr><tr><td>&quot;Adelie&quot;</td><td>&quot;Torgersen&quot;</td><td>36.7</td><td>19.3</td><td>193.0</td><td>3450.0</td><td>&quot;female&quot;</td><td>2007</td><td>3.45</td></tr><tr><td>&hellip;</td><td>&hellip;</td><td>&hellip;</td><td>&hellip;</td><td>&hellip;</td><td>&hellip;</td><td>&hellip;</td><td>&hellip;</td><td>&hellip;</td></tr><tr><td>&quot;Chinstrap&quot;</td><td>&quot;Dream&quot;</td><td>55.8</td><td>19.8</td><td>207.0</td><td>4000.0</td><td>&quot;male&quot;</td><td>2009</td><td>4.0</td></tr><tr><td>&quot;Chinstrap&quot;</td><td>&quot;Dream&quot;</td><td>43.5</td><td>18.1</td><td>202.0</td><td>3400.0</td><td>&quot;female&quot;</td><td>2009</td><td>3.4</td></tr><tr><td>&quot;Chinstrap&quot;</td><td>&quot;Dream&quot;</td><td>49.6</td><td>18.2</td><td>193.0</td><td>3775.0</td><td>&quot;male&quot;</td><td>2009</td><td>3.775</td></tr><tr><td>&quot;Chinstrap&quot;</td><td>&quot;Dream&quot;</td><td>50.8</td><td>19.0</td><td>210.0</td><td>4100.0</td><td>&quot;male&quot;</td><td>2009</td><td>4.1</td></tr><tr><td>&quot;Chinstrap&quot;</td><td>&quot;Dream&quot;</td><td>50.2</td><td>18.7</td><td>198.0</td><td>3775.0</td><td>&quot;female&quot;</td><td>2009</td><td>3.775</td></tr></tbody></table></div>"
      ],
      "text/plain": [
       "shape: (344, 9)\n",
       "┌───────────┬───────────┬─────────────┬─────────────┬───┬─────────────┬────────┬──────┬────────────┐\n",
       "│ species   ┆ island    ┆ bill_length ┆ bill_depth_ ┆ … ┆ body_mass_g ┆ sex    ┆ year ┆ body_mass_ │\n",
       "│ ---       ┆ ---       ┆ _mm         ┆ mm          ┆   ┆ ---         ┆ ---    ┆ ---  ┆ kg         │\n",
       "│ str       ┆ str       ┆ ---         ┆ ---         ┆   ┆ f64         ┆ str    ┆ i64  ┆ ---        │\n",
       "│           ┆           ┆ f64         ┆ f64         ┆   ┆             ┆        ┆      ┆ f64        │\n",
       "╞═══════════╪═══════════╪═════════════╪═════════════╪═══╪═════════════╪════════╪══════╪════════════╡\n",
       "│ Adelie    ┆ Torgersen ┆ 39.1        ┆ 18.7        ┆ … ┆ 3750.0      ┆ male   ┆ 2007 ┆ 3.75       │\n",
       "│ Adelie    ┆ Torgersen ┆ 39.5        ┆ 17.4        ┆ … ┆ 3800.0      ┆ female ┆ 2007 ┆ 3.8        │\n",
       "│ Adelie    ┆ Torgersen ┆ 40.3        ┆ 18.0        ┆ … ┆ 3250.0      ┆ female ┆ 2007 ┆ 3.25       │\n",
       "│ Adelie    ┆ Torgersen ┆ null        ┆ null        ┆ … ┆ null        ┆ null   ┆ 2007 ┆ null       │\n",
       "│ Adelie    ┆ Torgersen ┆ 36.7        ┆ 19.3        ┆ … ┆ 3450.0      ┆ female ┆ 2007 ┆ 3.45       │\n",
       "│ …         ┆ …         ┆ …           ┆ …           ┆ … ┆ …           ┆ …      ┆ …    ┆ …          │\n",
       "│ Chinstrap ┆ Dream     ┆ 55.8        ┆ 19.8        ┆ … ┆ 4000.0      ┆ male   ┆ 2009 ┆ 4.0        │\n",
       "│ Chinstrap ┆ Dream     ┆ 43.5        ┆ 18.1        ┆ … ┆ 3400.0      ┆ female ┆ 2009 ┆ 3.4        │\n",
       "│ Chinstrap ┆ Dream     ┆ 49.6        ┆ 18.2        ┆ … ┆ 3775.0      ┆ male   ┆ 2009 ┆ 3.775      │\n",
       "│ Chinstrap ┆ Dream     ┆ 50.8        ┆ 19.0        ┆ … ┆ 4100.0      ┆ male   ┆ 2009 ┆ 4.1        │\n",
       "│ Chinstrap ┆ Dream     ┆ 50.2        ┆ 18.7        ┆ … ┆ 3775.0      ┆ female ┆ 2009 ┆ 3.775      │\n",
       "└───────────┴───────────┴─────────────┴─────────────┴───┴─────────────┴────────┴──────┴────────────┘"
      ]
     },
     "execution_count": 5,
     "metadata": {},
     "output_type": "execute_result"
    }
   ],
   "source": [
    "# for each species, using only males, get the percentile of body mass for each individual, write a contidional that assigns categorical values based on quantile\n",
    "# pipeline:\n",
    "# make kg column\n",
    "# filter for males\n",
    "# aggregate by species and compute quantiles\n",
    "# join back to original\n",
    "# classify each individual based on quantile\n",
    "\n",
    "df = df.with_columns(\n",
    "    (pl.col(\"body_mass_g\") / 1000).alias(\"body_mass_kg\")\n",
    ")\n",
    "df"
   ]
  },
  {
   "cell_type": "code",
   "execution_count": null,
   "id": "95ebd2d5",
   "metadata": {},
   "outputs": [
    {
     "data": {
      "text/html": [
       "<div><style>\n",
       ".dataframe > thead > tr,\n",
       ".dataframe > tbody > tr {\n",
       "  text-align: right;\n",
       "  white-space: pre-wrap;\n",
       "}\n",
       "</style>\n",
       "<small>shape: (10, 12)</small><table border=\"1\" class=\"dataframe\"><thead><tr><th>species</th><th>island</th><th>bill_length_mm</th><th>bill_depth_mm</th><th>flipper_length_mm</th><th>body_mass_g</th><th>sex</th><th>year</th><th>body_mass_kg</th><th>q1_body_mass_kg</th><th>q2_body_mass_kg</th><th>q3_body_mass_kg</th></tr><tr><td>str</td><td>str</td><td>f64</td><td>f64</td><td>f64</td><td>f64</td><td>str</td><td>i64</td><td>f64</td><td>f64</td><td>f64</td><td>f64</td></tr></thead><tbody><tr><td>&quot;Gentoo&quot;</td><td>&quot;Biscoe&quot;</td><td>46.1</td><td>13.2</td><td>211.0</td><td>4500.0</td><td>&quot;female&quot;</td><td>2007</td><td>4.5</td><td>5.3</td><td>5.5</td><td>5.7</td></tr><tr><td>&quot;Gentoo&quot;</td><td>&quot;Biscoe&quot;</td><td>50.0</td><td>16.3</td><td>230.0</td><td>5700.0</td><td>&quot;male&quot;</td><td>2007</td><td>5.7</td><td>5.3</td><td>5.5</td><td>5.7</td></tr><tr><td>&quot;Gentoo&quot;</td><td>&quot;Biscoe&quot;</td><td>48.7</td><td>14.1</td><td>210.0</td><td>4450.0</td><td>&quot;female&quot;</td><td>2007</td><td>4.45</td><td>5.3</td><td>5.5</td><td>5.7</td></tr><tr><td>&quot;Gentoo&quot;</td><td>&quot;Biscoe&quot;</td><td>50.0</td><td>15.2</td><td>218.0</td><td>5700.0</td><td>&quot;male&quot;</td><td>2007</td><td>5.7</td><td>5.3</td><td>5.5</td><td>5.7</td></tr><tr><td>&quot;Gentoo&quot;</td><td>&quot;Biscoe&quot;</td><td>47.6</td><td>14.5</td><td>215.0</td><td>5400.0</td><td>&quot;male&quot;</td><td>2007</td><td>5.4</td><td>5.3</td><td>5.5</td><td>5.7</td></tr><tr><td>&quot;Gentoo&quot;</td><td>&quot;Biscoe&quot;</td><td>46.5</td><td>13.5</td><td>210.0</td><td>4550.0</td><td>&quot;female&quot;</td><td>2007</td><td>4.55</td><td>5.3</td><td>5.5</td><td>5.7</td></tr><tr><td>&quot;Gentoo&quot;</td><td>&quot;Biscoe&quot;</td><td>45.4</td><td>14.6</td><td>211.0</td><td>4800.0</td><td>&quot;female&quot;</td><td>2007</td><td>4.8</td><td>5.3</td><td>5.5</td><td>5.7</td></tr><tr><td>&quot;Gentoo&quot;</td><td>&quot;Biscoe&quot;</td><td>46.7</td><td>15.3</td><td>219.0</td><td>5200.0</td><td>&quot;male&quot;</td><td>2007</td><td>5.2</td><td>5.3</td><td>5.5</td><td>5.7</td></tr><tr><td>&quot;Gentoo&quot;</td><td>&quot;Biscoe&quot;</td><td>43.3</td><td>13.4</td><td>209.0</td><td>4400.0</td><td>&quot;female&quot;</td><td>2007</td><td>4.4</td><td>5.3</td><td>5.5</td><td>5.7</td></tr><tr><td>&quot;Gentoo&quot;</td><td>&quot;Biscoe&quot;</td><td>46.8</td><td>15.4</td><td>215.0</td><td>5150.0</td><td>&quot;male&quot;</td><td>2007</td><td>5.15</td><td>5.3</td><td>5.5</td><td>5.7</td></tr></tbody></table></div>"
      ],
      "text/plain": [
       "shape: (10, 12)\n",
       "┌─────────┬────────┬────────────┬────────────┬───┬────────────┬────────────┬───────────┬───────────┐\n",
       "│ species ┆ island ┆ bill_lengt ┆ bill_depth ┆ … ┆ body_mass_ ┆ q1_body_ma ┆ q2_body_m ┆ q3_body_m │\n",
       "│ ---     ┆ ---    ┆ h_mm       ┆ _mm        ┆   ┆ kg         ┆ ss_kg      ┆ ass_kg    ┆ ass_kg    │\n",
       "│ str     ┆ str    ┆ ---        ┆ ---        ┆   ┆ ---        ┆ ---        ┆ ---       ┆ ---       │\n",
       "│         ┆        ┆ f64        ┆ f64        ┆   ┆ f64        ┆ f64        ┆ f64       ┆ f64       │\n",
       "╞═════════╪════════╪════════════╪════════════╪═══╪════════════╪════════════╪═══════════╪═══════════╡\n",
       "│ Gentoo  ┆ Biscoe ┆ 46.1       ┆ 13.2       ┆ … ┆ 4.5        ┆ 5.3        ┆ 5.5       ┆ 5.7       │\n",
       "│ Gentoo  ┆ Biscoe ┆ 50.0       ┆ 16.3       ┆ … ┆ 5.7        ┆ 5.3        ┆ 5.5       ┆ 5.7       │\n",
       "│ Gentoo  ┆ Biscoe ┆ 48.7       ┆ 14.1       ┆ … ┆ 4.45       ┆ 5.3        ┆ 5.5       ┆ 5.7       │\n",
       "│ Gentoo  ┆ Biscoe ┆ 50.0       ┆ 15.2       ┆ … ┆ 5.7        ┆ 5.3        ┆ 5.5       ┆ 5.7       │\n",
       "│ Gentoo  ┆ Biscoe ┆ 47.6       ┆ 14.5       ┆ … ┆ 5.4        ┆ 5.3        ┆ 5.5       ┆ 5.7       │\n",
       "│ Gentoo  ┆ Biscoe ┆ 46.5       ┆ 13.5       ┆ … ┆ 4.55       ┆ 5.3        ┆ 5.5       ┆ 5.7       │\n",
       "│ Gentoo  ┆ Biscoe ┆ 45.4       ┆ 14.6       ┆ … ┆ 4.8        ┆ 5.3        ┆ 5.5       ┆ 5.7       │\n",
       "│ Gentoo  ┆ Biscoe ┆ 46.7       ┆ 15.3       ┆ … ┆ 5.2        ┆ 5.3        ┆ 5.5       ┆ 5.7       │\n",
       "│ Gentoo  ┆ Biscoe ┆ 43.3       ┆ 13.4       ┆ … ┆ 4.4        ┆ 5.3        ┆ 5.5       ┆ 5.7       │\n",
       "│ Gentoo  ┆ Biscoe ┆ 46.8       ┆ 15.4       ┆ … ┆ 5.15       ┆ 5.3        ┆ 5.5       ┆ 5.7       │\n",
       "└─────────┴────────┴────────────┴────────────┴───┴────────────┴────────────┴───────────┴───────────┘"
      ]
     },
     "execution_count": 20,
     "metadata": {},
     "output_type": "execute_result"
    }
   ],
   "source": []
  },
  {
   "cell_type": "code",
   "execution_count": null,
   "id": "c5c4df1b",
   "metadata": {},
   "outputs": [],
   "source": [
    "kg_col = (pl.col(\"body_mass_g\") / 1000).alias(\"body_mass_kg\")\n",
    "gentoo_male = (pl.col(\"species\") == \"Gentoo\") & (pl.col(\"sex\") == \"male\")\n",
    "\n",
    "lazy_query = (\n",
    "    df_lazy.with_columns(kg_col)\n",
    "    .filter(pl.col(\"\"))\n",
    "    .select(\"body_mass_kg\")\n",
    ")\n",
    "# returns another lazy frame"
   ]
  }
 ],
 "metadata": {
  "kernelspec": {
   "display_name": "enigma-env",
   "language": "python",
   "name": "python3"
  },
  "language_info": {
   "codemirror_mode": {
    "name": "ipython",
    "version": 3
   },
   "file_extension": ".py",
   "mimetype": "text/x-python",
   "name": "python",
   "nbconvert_exporter": "python",
   "pygments_lexer": "ipython3",
   "version": "3.11.9"
  }
 },
 "nbformat": 4,
 "nbformat_minor": 5
}
